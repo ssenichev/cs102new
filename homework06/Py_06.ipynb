{
  "nbformat": 4,
  "nbformat_minor": 0,
  "metadata": {
    "colab": {
      "provenance": [],
      "include_colab_link": true
    },
    "kernelspec": {
      "name": "python3",
      "display_name": "Python 3"
    },
    "language_info": {
      "name": "python"
    }
  },
  "cells": [
    {
      "cell_type": "markdown",
      "metadata": {
        "id": "view-in-github",
        "colab_type": "text"
      },
      "source": [
        "<a href=\"https://colab.research.google.com/github/ssenichev/cs102new/blob/homework06/homework06/Py_06.ipynb\" target=\"_parent\"><img src=\"https://colab.research.google.com/assets/colab-badge.svg\" alt=\"Open In Colab\"/></a>"
      ]
    },
    {
      "cell_type": "markdown",
      "metadata": {
        "id": "KSKKDKd2rwlj"
      },
      "source": [
        "# Дескриптивный анализ данных"
      ]
    },
    {
      "cell_type": "markdown",
      "source": [
        ">$\\color{red}{\\text{Прежде чем перейти в выполнению заданий,}}$ \n",
        "$\\color{red}{\\text{через меню Файл подключите свой гугл-колаб к своему гитхабу. }}$\n",
        "$\\color{red}{\\text{Создайте для этой работы отдельную ветку и папку – homework06.}}$"
      ],
      "metadata": {
        "id": "WVUwSMwE3W8c"
      }
    },
    {
      "cell_type": "markdown",
      "metadata": {
        "id": "34z2ONdu-UF0"
      },
      "source": [
        "*Построение всех графиков выполняется только при помощи средств визуализации `Python`: `matplotlib`, `seaborn`, `pandas`. По каждому заданию должен быть сделан вывод. Для всех визуализаций используйте стиль `seaborn`. Обязательно добавляйте подпись графика и осей.* "
      ]
    },
    {
      "cell_type": "markdown",
      "metadata": {
        "id": "2PDB4mwLr1Sk"
      },
      "source": [
        "В этой практической работе вам предстоит провести анализ данных об особенностях жанров музыки. Датасет возьмите [отсюда](https://www.kaggle.com/vicsuperman/prediction-of-music-genre). Он содержит 41700 уникальных исполниителей.\n",
        "\n",
        "Данные содержат 18 столбцов:\n",
        "- `instance_id` - id строки датасета\n",
        "- `artist_name` - исполнитель\n",
        "- `track_name` - название трека\n",
        "- `popularity` - индекс популярности трека\n",
        "- `acousticness` - акустичность\n",
        "- `danceability` - танцевальность (насколько трек подходит для танцев)\n",
        "- `duration_ms` - длительность трека\n",
        "- `energy` - энергичность трека\n",
        "- `instrumentalness` - инструментальность\n",
        "- `key` - регистр (высота тона)\n",
        "- `liveness` - живость\n",
        "- `loudness` - громкость\n",
        "- `mode` - тональность\n",
        "- `speechiness` - насколько много текста\n",
        "- `tempo` - музыкальный темп\n",
        "- `obtained_date` - дата загрузки трека в датасет\n",
        "- `valence` - настроение\n",
        "- `music_genre` - жанр"
      ]
    },
    {
      "cell_type": "markdown",
      "source": [
        "## Часть 1\n",
        "\n",
        "Выполните все задания ниже с помощью библиотеки `pandas`."
      ],
      "metadata": {
        "id": "bkchMOL3490D"
      }
    },
    {
      "cell_type": "code",
      "source": [
        "from google.colab import drive\n",
        "drive.mount('/content/gdrive')"
      ],
      "metadata": {
        "id": "rdCz31g9qPCP",
        "colab": {
          "base_uri": "https://localhost:8080/"
        },
        "outputId": "b6ef4f1b-0ded-4053-8a34-ddebba3819ae"
      },
      "execution_count": 2,
      "outputs": [
        {
          "output_type": "stream",
          "name": "stdout",
          "text": [
            "Mounted at /content/gdrive\n"
          ]
        }
      ]
    },
    {
      "cell_type": "code",
      "source": [
        "pip install seaborn notebook"
      ],
      "metadata": {
        "id": "ldelGEuHPA1n",
        "colab": {
          "base_uri": "https://localhost:8080/"
        },
        "outputId": "b9abf2b7-2c89-485f-d6e7-653f56bd5dc4"
      },
      "execution_count": 3,
      "outputs": [
        {
          "output_type": "stream",
          "name": "stdout",
          "text": [
            "Looking in indexes: https://pypi.org/simple, https://us-python.pkg.dev/colab-wheels/public/simple/\n",
            "Requirement already satisfied: seaborn in /usr/local/lib/python3.10/dist-packages (0.12.2)\n",
            "Requirement already satisfied: notebook in /usr/local/lib/python3.10/dist-packages (6.4.8)\n",
            "Requirement already satisfied: numpy!=1.24.0,>=1.17 in /usr/local/lib/python3.10/dist-packages (from seaborn) (1.22.4)\n",
            "Requirement already satisfied: pandas>=0.25 in /usr/local/lib/python3.10/dist-packages (from seaborn) (1.5.3)\n",
            "Requirement already satisfied: matplotlib!=3.6.1,>=3.1 in /usr/local/lib/python3.10/dist-packages (from seaborn) (3.7.1)\n",
            "Requirement already satisfied: jinja2 in /usr/local/lib/python3.10/dist-packages (from notebook) (3.1.2)\n",
            "Requirement already satisfied: tornado>=6.1 in /usr/local/lib/python3.10/dist-packages (from notebook) (6.2)\n",
            "Requirement already satisfied: pyzmq>=17 in /usr/local/lib/python3.10/dist-packages (from notebook) (23.2.1)\n",
            "Requirement already satisfied: argon2-cffi in /usr/local/lib/python3.10/dist-packages (from notebook) (21.3.0)\n",
            "Requirement already satisfied: ipython-genutils in /usr/local/lib/python3.10/dist-packages (from notebook) (0.2.0)\n",
            "Requirement already satisfied: traitlets>=4.2.1 in /usr/local/lib/python3.10/dist-packages (from notebook) (5.7.1)\n",
            "Requirement already satisfied: jupyter-core>=4.6.1 in /usr/local/lib/python3.10/dist-packages (from notebook) (5.3.0)\n",
            "Requirement already satisfied: jupyter-client>=5.3.4 in /usr/local/lib/python3.10/dist-packages (from notebook) (6.1.12)\n",
            "Requirement already satisfied: nbformat in /usr/local/lib/python3.10/dist-packages (from notebook) (5.8.0)\n",
            "Requirement already satisfied: nbconvert in /usr/local/lib/python3.10/dist-packages (from notebook) (6.5.4)\n",
            "Requirement already satisfied: nest-asyncio>=1.5 in /usr/local/lib/python3.10/dist-packages (from notebook) (1.5.6)\n",
            "Requirement already satisfied: ipykernel in /usr/local/lib/python3.10/dist-packages (from notebook) (5.5.6)\n",
            "Requirement already satisfied: Send2Trash>=1.8.0 in /usr/local/lib/python3.10/dist-packages (from notebook) (1.8.0)\n",
            "Requirement already satisfied: terminado>=0.8.3 in /usr/local/lib/python3.10/dist-packages (from notebook) (0.17.1)\n",
            "Requirement already satisfied: prometheus-client in /usr/local/lib/python3.10/dist-packages (from notebook) (0.16.0)\n",
            "Requirement already satisfied: python-dateutil>=2.1 in /usr/local/lib/python3.10/dist-packages (from jupyter-client>=5.3.4->notebook) (2.8.2)\n",
            "Requirement already satisfied: platformdirs>=2.5 in /usr/local/lib/python3.10/dist-packages (from jupyter-core>=4.6.1->notebook) (3.3.0)\n",
            "Requirement already satisfied: contourpy>=1.0.1 in /usr/local/lib/python3.10/dist-packages (from matplotlib!=3.6.1,>=3.1->seaborn) (1.0.7)\n",
            "Requirement already satisfied: cycler>=0.10 in /usr/local/lib/python3.10/dist-packages (from matplotlib!=3.6.1,>=3.1->seaborn) (0.11.0)\n",
            "Requirement already satisfied: fonttools>=4.22.0 in /usr/local/lib/python3.10/dist-packages (from matplotlib!=3.6.1,>=3.1->seaborn) (4.39.3)\n",
            "Requirement already satisfied: kiwisolver>=1.0.1 in /usr/local/lib/python3.10/dist-packages (from matplotlib!=3.6.1,>=3.1->seaborn) (1.4.4)\n",
            "Requirement already satisfied: packaging>=20.0 in /usr/local/lib/python3.10/dist-packages (from matplotlib!=3.6.1,>=3.1->seaborn) (23.1)\n",
            "Requirement already satisfied: pillow>=6.2.0 in /usr/local/lib/python3.10/dist-packages (from matplotlib!=3.6.1,>=3.1->seaborn) (8.4.0)\n",
            "Requirement already satisfied: pyparsing>=2.3.1 in /usr/local/lib/python3.10/dist-packages (from matplotlib!=3.6.1,>=3.1->seaborn) (3.0.9)\n",
            "Requirement already satisfied: pytz>=2020.1 in /usr/local/lib/python3.10/dist-packages (from pandas>=0.25->seaborn) (2022.7.1)\n",
            "Requirement already satisfied: ptyprocess in /usr/local/lib/python3.10/dist-packages (from terminado>=0.8.3->notebook) (0.7.0)\n",
            "Requirement already satisfied: argon2-cffi-bindings in /usr/local/lib/python3.10/dist-packages (from argon2-cffi->notebook) (21.2.0)\n",
            "Requirement already satisfied: ipython>=5.0.0 in /usr/local/lib/python3.10/dist-packages (from ipykernel->notebook) (7.34.0)\n",
            "Requirement already satisfied: MarkupSafe>=2.0 in /usr/local/lib/python3.10/dist-packages (from jinja2->notebook) (2.1.2)\n",
            "Requirement already satisfied: lxml in /usr/local/lib/python3.10/dist-packages (from nbconvert->notebook) (4.9.2)\n",
            "Requirement already satisfied: beautifulsoup4 in /usr/local/lib/python3.10/dist-packages (from nbconvert->notebook) (4.11.2)\n",
            "Requirement already satisfied: bleach in /usr/local/lib/python3.10/dist-packages (from nbconvert->notebook) (6.0.0)\n",
            "Requirement already satisfied: defusedxml in /usr/local/lib/python3.10/dist-packages (from nbconvert->notebook) (0.7.1)\n",
            "Requirement already satisfied: entrypoints>=0.2.2 in /usr/local/lib/python3.10/dist-packages (from nbconvert->notebook) (0.4)\n",
            "Requirement already satisfied: jupyterlab-pygments in /usr/local/lib/python3.10/dist-packages (from nbconvert->notebook) (0.2.2)\n",
            "Requirement already satisfied: mistune<2,>=0.8.1 in /usr/local/lib/python3.10/dist-packages (from nbconvert->notebook) (0.8.4)\n",
            "Requirement already satisfied: nbclient>=0.5.0 in /usr/local/lib/python3.10/dist-packages (from nbconvert->notebook) (0.7.4)\n",
            "Requirement already satisfied: pandocfilters>=1.4.1 in /usr/local/lib/python3.10/dist-packages (from nbconvert->notebook) (1.5.0)\n",
            "Requirement already satisfied: pygments>=2.4.1 in /usr/local/lib/python3.10/dist-packages (from nbconvert->notebook) (2.14.0)\n",
            "Requirement already satisfied: tinycss2 in /usr/local/lib/python3.10/dist-packages (from nbconvert->notebook) (1.2.1)\n",
            "Requirement already satisfied: fastjsonschema in /usr/local/lib/python3.10/dist-packages (from nbformat->notebook) (2.16.3)\n",
            "Requirement already satisfied: jsonschema>=2.6 in /usr/local/lib/python3.10/dist-packages (from nbformat->notebook) (4.3.3)\n",
            "Requirement already satisfied: setuptools>=18.5 in /usr/local/lib/python3.10/dist-packages (from ipython>=5.0.0->ipykernel->notebook) (67.7.2)\n",
            "Collecting jedi>=0.16 (from ipython>=5.0.0->ipykernel->notebook)\n",
            "  Downloading jedi-0.18.2-py2.py3-none-any.whl (1.6 MB)\n",
            "\u001b[2K     \u001b[90m━━━━━━━━━━━━━━━━━━━━━━━━━━━━━━━━━━━━━━━━\u001b[0m \u001b[32m1.6/1.6 MB\u001b[0m \u001b[31m17.4 MB/s\u001b[0m eta \u001b[36m0:00:00\u001b[0m\n",
            "\u001b[?25hRequirement already satisfied: decorator in /usr/local/lib/python3.10/dist-packages (from ipython>=5.0.0->ipykernel->notebook) (4.4.2)\n",
            "Requirement already satisfied: pickleshare in /usr/local/lib/python3.10/dist-packages (from ipython>=5.0.0->ipykernel->notebook) (0.7.5)\n",
            "Requirement already satisfied: prompt-toolkit!=3.0.0,!=3.0.1,<3.1.0,>=2.0.0 in /usr/local/lib/python3.10/dist-packages (from ipython>=5.0.0->ipykernel->notebook) (3.0.38)\n",
            "Requirement already satisfied: backcall in /usr/local/lib/python3.10/dist-packages (from ipython>=5.0.0->ipykernel->notebook) (0.2.0)\n",
            "Requirement already satisfied: matplotlib-inline in /usr/local/lib/python3.10/dist-packages (from ipython>=5.0.0->ipykernel->notebook) (0.1.6)\n",
            "Requirement already satisfied: pexpect>4.3 in /usr/local/lib/python3.10/dist-packages (from ipython>=5.0.0->ipykernel->notebook) (4.8.0)\n",
            "Requirement already satisfied: attrs>=17.4.0 in /usr/local/lib/python3.10/dist-packages (from jsonschema>=2.6->nbformat->notebook) (23.1.0)\n",
            "Requirement already satisfied: pyrsistent!=0.17.0,!=0.17.1,!=0.17.2,>=0.14.0 in /usr/local/lib/python3.10/dist-packages (from jsonschema>=2.6->nbformat->notebook) (0.19.3)\n",
            "Requirement already satisfied: six>=1.5 in /usr/local/lib/python3.10/dist-packages (from python-dateutil>=2.1->jupyter-client>=5.3.4->notebook) (1.16.0)\n",
            "Requirement already satisfied: cffi>=1.0.1 in /usr/local/lib/python3.10/dist-packages (from argon2-cffi-bindings->argon2-cffi->notebook) (1.15.1)\n",
            "Requirement already satisfied: soupsieve>1.2 in /usr/local/lib/python3.10/dist-packages (from beautifulsoup4->nbconvert->notebook) (2.4.1)\n",
            "Requirement already satisfied: webencodings in /usr/local/lib/python3.10/dist-packages (from bleach->nbconvert->notebook) (0.5.1)\n",
            "Requirement already satisfied: pycparser in /usr/local/lib/python3.10/dist-packages (from cffi>=1.0.1->argon2-cffi-bindings->argon2-cffi->notebook) (2.21)\n",
            "Requirement already satisfied: parso<0.9.0,>=0.8.0 in /usr/local/lib/python3.10/dist-packages (from jedi>=0.16->ipython>=5.0.0->ipykernel->notebook) (0.8.3)\n",
            "Requirement already satisfied: wcwidth in /usr/local/lib/python3.10/dist-packages (from prompt-toolkit!=3.0.0,!=3.0.1,<3.1.0,>=2.0.0->ipython>=5.0.0->ipykernel->notebook) (0.2.6)\n",
            "Installing collected packages: jedi\n",
            "Successfully installed jedi-0.18.2\n"
          ]
        }
      ]
    },
    {
      "cell_type": "code",
      "source": [
        "import matplotlib\n",
        "import pandas as pd\n",
        "import seaborn as sns\n",
        "import numpy as np\n",
        "import matplotlib.pyplot as plt"
      ],
      "metadata": {
        "id": "4dJyiXoTH7d7"
      },
      "execution_count": 4,
      "outputs": []
    },
    {
      "cell_type": "markdown",
      "source": [
        "### Задание 1"
      ],
      "metadata": {
        "id": "2oLTrZbOxFmz"
      }
    },
    {
      "cell_type": "markdown",
      "source": [
        "1. Загрузите датасет `music_genre.csv`.\n",
        "2. Возьмите 20 тысяч случайных строк из датасета (**все остальные задания выполняйте для этих 20 тысяч строк!!!**)\n",
        "3. Проверьте, есть ли в датасете дублирующиеся строки. Если есть, удалите их.\n",
        "4. Проверьте, есть ли а датасете строки, в которых значение в столбце `artist_name` – `empty_field`. Если есть, выведите эти строки и их количество. А затем удалите из датасета."
      ],
      "metadata": {
        "id": "UiPqPkb0wwyw"
      }
    },
    {
      "cell_type": "code",
      "source": [
        "df = pd.read_csv('/content/gdrive/My Drive/Colab Notebooks/music_genre.csv')\n",
        "df = df.sample(n=20000)\n",
        "df = df.drop_duplicates()\n",
        "df_ef = df.loc[df['artist_name'] == 'empty_field']\n",
        "print(len(df_ef))\n",
        "df_ef.head()"
      ],
      "metadata": {
        "id": "CdDZgNsEwsgA",
        "colab": {
          "base_uri": "https://localhost:8080/",
          "height": 370
        },
        "outputId": "0b31ac77-b128-4fcb-d1e0-f798fa661214"
      },
      "execution_count": 5,
      "outputs": [
        {
          "output_type": "stream",
          "name": "stdout",
          "text": [
            "1014\n"
          ]
        },
        {
          "output_type": "execute_result",
          "data": {
            "text/plain": [
              "       instance_id  artist_name                          track_name  \\\n",
              "38747      78067.0  empty_field                      She's American   \n",
              "30290      42177.0  empty_field                  24 Hours at a Time   \n",
              "17340      85536.0  empty_field                            Homebrew   \n",
              "2552       70957.0  empty_field  Saints & Sinners - Eliminate Remix   \n",
              "9137       37567.0  empty_field                              Jugemu   \n",
              "\n",
              "       popularity  acousticness  danceability  duration_ms  energy  \\\n",
              "38747        59.0       0.17500         0.643     270107.0   0.868   \n",
              "30290        32.0       0.00167         0.388     300253.0   0.893   \n",
              "17340        38.0       0.00804         0.670     184000.0   0.896   \n",
              "2552         29.0       0.04850         0.611     264009.0   0.730   \n",
              "9137         17.0       0.01430         0.702     228053.0   0.814   \n",
              "\n",
              "       instrumentalness key  liveness  loudness   mode  speechiness  \\\n",
              "38747          0.000463  C#    0.0794    -3.953  Major       0.0578   \n",
              "30290          0.262000   A    0.1470    -3.625  Major       0.0361   \n",
              "17340          0.000000   A    0.1490    -9.509  Major       0.0922   \n",
              "2552           0.090000  G#    0.0930    -2.829  Minor       0.0587   \n",
              "9137           0.000201   E    0.0747    -7.502  Minor       0.0412   \n",
              "\n",
              "                    tempo obtained_date  valence  music_genre  \n",
              "38747             115.978         4-Apr    0.513         Rock  \n",
              "30290              78.903         4-Apr    0.937        Blues  \n",
              "17340              101.61         4-Apr    0.505  Alternative  \n",
              "2552   134.94899999999998         4-Apr    0.329   Electronic  \n",
              "9137   125.95200000000001         4-Apr    0.928        Anime  "
            ],
            "text/html": [
              "\n",
              "  <div id=\"df-b2edb502-6f52-4c57-bc9f-b86665891f79\">\n",
              "    <div class=\"colab-df-container\">\n",
              "      <div>\n",
              "<style scoped>\n",
              "    .dataframe tbody tr th:only-of-type {\n",
              "        vertical-align: middle;\n",
              "    }\n",
              "\n",
              "    .dataframe tbody tr th {\n",
              "        vertical-align: top;\n",
              "    }\n",
              "\n",
              "    .dataframe thead th {\n",
              "        text-align: right;\n",
              "    }\n",
              "</style>\n",
              "<table border=\"1\" class=\"dataframe\">\n",
              "  <thead>\n",
              "    <tr style=\"text-align: right;\">\n",
              "      <th></th>\n",
              "      <th>instance_id</th>\n",
              "      <th>artist_name</th>\n",
              "      <th>track_name</th>\n",
              "      <th>popularity</th>\n",
              "      <th>acousticness</th>\n",
              "      <th>danceability</th>\n",
              "      <th>duration_ms</th>\n",
              "      <th>energy</th>\n",
              "      <th>instrumentalness</th>\n",
              "      <th>key</th>\n",
              "      <th>liveness</th>\n",
              "      <th>loudness</th>\n",
              "      <th>mode</th>\n",
              "      <th>speechiness</th>\n",
              "      <th>tempo</th>\n",
              "      <th>obtained_date</th>\n",
              "      <th>valence</th>\n",
              "      <th>music_genre</th>\n",
              "    </tr>\n",
              "  </thead>\n",
              "  <tbody>\n",
              "    <tr>\n",
              "      <th>38747</th>\n",
              "      <td>78067.0</td>\n",
              "      <td>empty_field</td>\n",
              "      <td>She's American</td>\n",
              "      <td>59.0</td>\n",
              "      <td>0.17500</td>\n",
              "      <td>0.643</td>\n",
              "      <td>270107.0</td>\n",
              "      <td>0.868</td>\n",
              "      <td>0.000463</td>\n",
              "      <td>C#</td>\n",
              "      <td>0.0794</td>\n",
              "      <td>-3.953</td>\n",
              "      <td>Major</td>\n",
              "      <td>0.0578</td>\n",
              "      <td>115.978</td>\n",
              "      <td>4-Apr</td>\n",
              "      <td>0.513</td>\n",
              "      <td>Rock</td>\n",
              "    </tr>\n",
              "    <tr>\n",
              "      <th>30290</th>\n",
              "      <td>42177.0</td>\n",
              "      <td>empty_field</td>\n",
              "      <td>24 Hours at a Time</td>\n",
              "      <td>32.0</td>\n",
              "      <td>0.00167</td>\n",
              "      <td>0.388</td>\n",
              "      <td>300253.0</td>\n",
              "      <td>0.893</td>\n",
              "      <td>0.262000</td>\n",
              "      <td>A</td>\n",
              "      <td>0.1470</td>\n",
              "      <td>-3.625</td>\n",
              "      <td>Major</td>\n",
              "      <td>0.0361</td>\n",
              "      <td>78.903</td>\n",
              "      <td>4-Apr</td>\n",
              "      <td>0.937</td>\n",
              "      <td>Blues</td>\n",
              "    </tr>\n",
              "    <tr>\n",
              "      <th>17340</th>\n",
              "      <td>85536.0</td>\n",
              "      <td>empty_field</td>\n",
              "      <td>Homebrew</td>\n",
              "      <td>38.0</td>\n",
              "      <td>0.00804</td>\n",
              "      <td>0.670</td>\n",
              "      <td>184000.0</td>\n",
              "      <td>0.896</td>\n",
              "      <td>0.000000</td>\n",
              "      <td>A</td>\n",
              "      <td>0.1490</td>\n",
              "      <td>-9.509</td>\n",
              "      <td>Major</td>\n",
              "      <td>0.0922</td>\n",
              "      <td>101.61</td>\n",
              "      <td>4-Apr</td>\n",
              "      <td>0.505</td>\n",
              "      <td>Alternative</td>\n",
              "    </tr>\n",
              "    <tr>\n",
              "      <th>2552</th>\n",
              "      <td>70957.0</td>\n",
              "      <td>empty_field</td>\n",
              "      <td>Saints &amp; Sinners - Eliminate Remix</td>\n",
              "      <td>29.0</td>\n",
              "      <td>0.04850</td>\n",
              "      <td>0.611</td>\n",
              "      <td>264009.0</td>\n",
              "      <td>0.730</td>\n",
              "      <td>0.090000</td>\n",
              "      <td>G#</td>\n",
              "      <td>0.0930</td>\n",
              "      <td>-2.829</td>\n",
              "      <td>Minor</td>\n",
              "      <td>0.0587</td>\n",
              "      <td>134.94899999999998</td>\n",
              "      <td>4-Apr</td>\n",
              "      <td>0.329</td>\n",
              "      <td>Electronic</td>\n",
              "    </tr>\n",
              "    <tr>\n",
              "      <th>9137</th>\n",
              "      <td>37567.0</td>\n",
              "      <td>empty_field</td>\n",
              "      <td>Jugemu</td>\n",
              "      <td>17.0</td>\n",
              "      <td>0.01430</td>\n",
              "      <td>0.702</td>\n",
              "      <td>228053.0</td>\n",
              "      <td>0.814</td>\n",
              "      <td>0.000201</td>\n",
              "      <td>E</td>\n",
              "      <td>0.0747</td>\n",
              "      <td>-7.502</td>\n",
              "      <td>Minor</td>\n",
              "      <td>0.0412</td>\n",
              "      <td>125.95200000000001</td>\n",
              "      <td>4-Apr</td>\n",
              "      <td>0.928</td>\n",
              "      <td>Anime</td>\n",
              "    </tr>\n",
              "  </tbody>\n",
              "</table>\n",
              "</div>\n",
              "      <button class=\"colab-df-convert\" onclick=\"convertToInteractive('df-b2edb502-6f52-4c57-bc9f-b86665891f79')\"\n",
              "              title=\"Convert this dataframe to an interactive table.\"\n",
              "              style=\"display:none;\">\n",
              "        \n",
              "  <svg xmlns=\"http://www.w3.org/2000/svg\" height=\"24px\"viewBox=\"0 0 24 24\"\n",
              "       width=\"24px\">\n",
              "    <path d=\"M0 0h24v24H0V0z\" fill=\"none\"/>\n",
              "    <path d=\"M18.56 5.44l.94 2.06.94-2.06 2.06-.94-2.06-.94-.94-2.06-.94 2.06-2.06.94zm-11 1L8.5 8.5l.94-2.06 2.06-.94-2.06-.94L8.5 2.5l-.94 2.06-2.06.94zm10 10l.94 2.06.94-2.06 2.06-.94-2.06-.94-.94-2.06-.94 2.06-2.06.94z\"/><path d=\"M17.41 7.96l-1.37-1.37c-.4-.4-.92-.59-1.43-.59-.52 0-1.04.2-1.43.59L10.3 9.45l-7.72 7.72c-.78.78-.78 2.05 0 2.83L4 21.41c.39.39.9.59 1.41.59.51 0 1.02-.2 1.41-.59l7.78-7.78 2.81-2.81c.8-.78.8-2.07 0-2.86zM5.41 20L4 18.59l7.72-7.72 1.47 1.35L5.41 20z\"/>\n",
              "  </svg>\n",
              "      </button>\n",
              "      \n",
              "  <style>\n",
              "    .colab-df-container {\n",
              "      display:flex;\n",
              "      flex-wrap:wrap;\n",
              "      gap: 12px;\n",
              "    }\n",
              "\n",
              "    .colab-df-convert {\n",
              "      background-color: #E8F0FE;\n",
              "      border: none;\n",
              "      border-radius: 50%;\n",
              "      cursor: pointer;\n",
              "      display: none;\n",
              "      fill: #1967D2;\n",
              "      height: 32px;\n",
              "      padding: 0 0 0 0;\n",
              "      width: 32px;\n",
              "    }\n",
              "\n",
              "    .colab-df-convert:hover {\n",
              "      background-color: #E2EBFA;\n",
              "      box-shadow: 0px 1px 2px rgba(60, 64, 67, 0.3), 0px 1px 3px 1px rgba(60, 64, 67, 0.15);\n",
              "      fill: #174EA6;\n",
              "    }\n",
              "\n",
              "    [theme=dark] .colab-df-convert {\n",
              "      background-color: #3B4455;\n",
              "      fill: #D2E3FC;\n",
              "    }\n",
              "\n",
              "    [theme=dark] .colab-df-convert:hover {\n",
              "      background-color: #434B5C;\n",
              "      box-shadow: 0px 1px 3px 1px rgba(0, 0, 0, 0.15);\n",
              "      filter: drop-shadow(0px 1px 2px rgba(0, 0, 0, 0.3));\n",
              "      fill: #FFFFFF;\n",
              "    }\n",
              "  </style>\n",
              "\n",
              "      <script>\n",
              "        const buttonEl =\n",
              "          document.querySelector('#df-b2edb502-6f52-4c57-bc9f-b86665891f79 button.colab-df-convert');\n",
              "        buttonEl.style.display =\n",
              "          google.colab.kernel.accessAllowed ? 'block' : 'none';\n",
              "\n",
              "        async function convertToInteractive(key) {\n",
              "          const element = document.querySelector('#df-b2edb502-6f52-4c57-bc9f-b86665891f79');\n",
              "          const dataTable =\n",
              "            await google.colab.kernel.invokeFunction('convertToInteractive',\n",
              "                                                     [key], {});\n",
              "          if (!dataTable) return;\n",
              "\n",
              "          const docLinkHtml = 'Like what you see? Visit the ' +\n",
              "            '<a target=\"_blank\" href=https://colab.research.google.com/notebooks/data_table.ipynb>data table notebook</a>'\n",
              "            + ' to learn more about interactive tables.';\n",
              "          element.innerHTML = '';\n",
              "          dataTable['output_type'] = 'display_data';\n",
              "          await google.colab.output.renderOutput(dataTable, element);\n",
              "          const docLink = document.createElement('div');\n",
              "          docLink.innerHTML = docLinkHtml;\n",
              "          element.appendChild(docLink);\n",
              "        }\n",
              "      </script>\n",
              "    </div>\n",
              "  </div>\n",
              "  "
            ]
          },
          "metadata": {},
          "execution_count": 5
        }
      ]
    },
    {
      "cell_type": "code",
      "source": [
        "df = df.drop(df[df['artist_name'] == 'empty_field'].index)\n",
        "df"
      ],
      "metadata": {
        "id": "pv5In9vRMvMa",
        "colab": {
          "base_uri": "https://localhost:8080/",
          "height": 653
        },
        "outputId": "e6647bed-914b-40ba-b582-2b10ec550481"
      },
      "execution_count": 6,
      "outputs": [
        {
          "output_type": "execute_result",
          "data": {
            "text/plain": [
              "       instance_id           artist_name  \\\n",
              "10009      38711.0    Masayoshi Takanaka   \n",
              "47463      85956.0          Moneybagg Yo   \n",
              "43092      36303.0         Gustav Mahler   \n",
              "33374      29868.0          Howlin' Wolf   \n",
              "38028      83756.0       Days Of The New   \n",
              "...            ...                   ...   \n",
              "861        41275.0             Kai Wachi   \n",
              "30738      71021.0  The Marcus King Band   \n",
              "2620       55466.0         Sneaker Pimps   \n",
              "3899       47820.0                 Rusko   \n",
              "11984      57382.0         Brian Tarquin   \n",
              "\n",
              "                                              track_name  popularity  \\\n",
              "10009                                         Samba Pati        36.0   \n",
              "47463                                     Wit This Money        50.0   \n",
              "43092  Symphony No. 8 in E-Flat Major - \"Symphony of ...         4.0   \n",
              "33374                                      Back Door Man        38.0   \n",
              "38028                                  Shelf In The Room        53.0   \n",
              "...                                                  ...         ...   \n",
              "861                                             Eminence        26.0   \n",
              "30738                                  Fraudulent Waffle        29.0   \n",
              "2620                                             Kiro TV        36.0   \n",
              "3899                                           Look Out!        35.0   \n",
              "11984                                        Freeway Jam        30.0   \n",
              "\n",
              "       acousticness  danceability  duration_ms  energy  instrumentalness key  \\\n",
              "10009       0.03450         0.473     342867.0  0.8230          0.446000   G   \n",
              "47463       0.07010         0.786     181449.0  0.6140          0.000000   C   \n",
              "43092       0.90900         0.151     202573.0  0.0153          0.627000  G#   \n",
              "33374       0.74700         0.528     173533.0  0.5920          0.000001   A   \n",
              "38028       0.03590         0.623     283973.0  0.5940          0.000137   B   \n",
              "...             ...           ...          ...     ...               ...  ..   \n",
              "861         0.00378         0.804     189370.0  0.6850          0.704000   E   \n",
              "30738       0.05740         0.245     320694.0  0.8080          0.851000   F   \n",
              "2620        0.00594         0.646     223640.0  0.7850          0.101000   D   \n",
              "3899        0.01290         0.769     213560.0  0.8310          0.016700  C#   \n",
              "11984       0.22000         0.672     281893.0  0.6040          0.894000   C   \n",
              "\n",
              "       liveness  loudness   mode  speechiness    tempo obtained_date  valence  \\\n",
              "10009     0.306    -6.625  Major       0.0630  104.694         4-Apr   0.3830   \n",
              "47463     0.446    -5.235  Major       0.2110  140.028         4-Apr   0.0878   \n",
              "43092     0.118   -39.497  Major       0.0412  104.152         4-Apr   0.0447   \n",
              "33374     0.203   -14.041  Minor       0.0621        ?         4-Apr   0.9250   \n",
              "38028     0.144    -8.994  Major       0.0263  128.936         4-Apr   0.3360   \n",
              "...         ...       ...    ...          ...      ...           ...      ...   \n",
              "861       0.110    -7.404  Minor       0.0521        ?         4-Apr   0.2220   \n",
              "30738     0.286    -8.328  Minor       0.1810   67.748         4-Apr   0.2510   \n",
              "2620      0.132    -4.319  Major       0.0355  139.001         4-Apr   0.3360   \n",
              "3899      0.174    -1.207  Minor       0.0534        ?         4-Apr   0.0716   \n",
              "11984     0.166   -10.160  Major       0.0291   99.978         4-Apr   0.8920   \n",
              "\n",
              "      music_genre  \n",
              "10009        Jazz  \n",
              "47463     Hip-Hop  \n",
              "43092   Classical  \n",
              "33374       Blues  \n",
              "38028        Rock  \n",
              "...           ...  \n",
              "861    Electronic  \n",
              "30738       Blues  \n",
              "2620   Electronic  \n",
              "3899   Electronic  \n",
              "11984        Jazz  \n",
              "\n",
              "[18984 rows x 18 columns]"
            ],
            "text/html": [
              "\n",
              "  <div id=\"df-e8dab2e7-8621-43fe-931d-9f4076c3624b\">\n",
              "    <div class=\"colab-df-container\">\n",
              "      <div>\n",
              "<style scoped>\n",
              "    .dataframe tbody tr th:only-of-type {\n",
              "        vertical-align: middle;\n",
              "    }\n",
              "\n",
              "    .dataframe tbody tr th {\n",
              "        vertical-align: top;\n",
              "    }\n",
              "\n",
              "    .dataframe thead th {\n",
              "        text-align: right;\n",
              "    }\n",
              "</style>\n",
              "<table border=\"1\" class=\"dataframe\">\n",
              "  <thead>\n",
              "    <tr style=\"text-align: right;\">\n",
              "      <th></th>\n",
              "      <th>instance_id</th>\n",
              "      <th>artist_name</th>\n",
              "      <th>track_name</th>\n",
              "      <th>popularity</th>\n",
              "      <th>acousticness</th>\n",
              "      <th>danceability</th>\n",
              "      <th>duration_ms</th>\n",
              "      <th>energy</th>\n",
              "      <th>instrumentalness</th>\n",
              "      <th>key</th>\n",
              "      <th>liveness</th>\n",
              "      <th>loudness</th>\n",
              "      <th>mode</th>\n",
              "      <th>speechiness</th>\n",
              "      <th>tempo</th>\n",
              "      <th>obtained_date</th>\n",
              "      <th>valence</th>\n",
              "      <th>music_genre</th>\n",
              "    </tr>\n",
              "  </thead>\n",
              "  <tbody>\n",
              "    <tr>\n",
              "      <th>10009</th>\n",
              "      <td>38711.0</td>\n",
              "      <td>Masayoshi Takanaka</td>\n",
              "      <td>Samba Pati</td>\n",
              "      <td>36.0</td>\n",
              "      <td>0.03450</td>\n",
              "      <td>0.473</td>\n",
              "      <td>342867.0</td>\n",
              "      <td>0.8230</td>\n",
              "      <td>0.446000</td>\n",
              "      <td>G</td>\n",
              "      <td>0.306</td>\n",
              "      <td>-6.625</td>\n",
              "      <td>Major</td>\n",
              "      <td>0.0630</td>\n",
              "      <td>104.694</td>\n",
              "      <td>4-Apr</td>\n",
              "      <td>0.3830</td>\n",
              "      <td>Jazz</td>\n",
              "    </tr>\n",
              "    <tr>\n",
              "      <th>47463</th>\n",
              "      <td>85956.0</td>\n",
              "      <td>Moneybagg Yo</td>\n",
              "      <td>Wit This Money</td>\n",
              "      <td>50.0</td>\n",
              "      <td>0.07010</td>\n",
              "      <td>0.786</td>\n",
              "      <td>181449.0</td>\n",
              "      <td>0.6140</td>\n",
              "      <td>0.000000</td>\n",
              "      <td>C</td>\n",
              "      <td>0.446</td>\n",
              "      <td>-5.235</td>\n",
              "      <td>Major</td>\n",
              "      <td>0.2110</td>\n",
              "      <td>140.028</td>\n",
              "      <td>4-Apr</td>\n",
              "      <td>0.0878</td>\n",
              "      <td>Hip-Hop</td>\n",
              "    </tr>\n",
              "    <tr>\n",
              "      <th>43092</th>\n",
              "      <td>36303.0</td>\n",
              "      <td>Gustav Mahler</td>\n",
              "      <td>Symphony No. 8 in E-Flat Major - \"Symphony of ...</td>\n",
              "      <td>4.0</td>\n",
              "      <td>0.90900</td>\n",
              "      <td>0.151</td>\n",
              "      <td>202573.0</td>\n",
              "      <td>0.0153</td>\n",
              "      <td>0.627000</td>\n",
              "      <td>G#</td>\n",
              "      <td>0.118</td>\n",
              "      <td>-39.497</td>\n",
              "      <td>Major</td>\n",
              "      <td>0.0412</td>\n",
              "      <td>104.152</td>\n",
              "      <td>4-Apr</td>\n",
              "      <td>0.0447</td>\n",
              "      <td>Classical</td>\n",
              "    </tr>\n",
              "    <tr>\n",
              "      <th>33374</th>\n",
              "      <td>29868.0</td>\n",
              "      <td>Howlin' Wolf</td>\n",
              "      <td>Back Door Man</td>\n",
              "      <td>38.0</td>\n",
              "      <td>0.74700</td>\n",
              "      <td>0.528</td>\n",
              "      <td>173533.0</td>\n",
              "      <td>0.5920</td>\n",
              "      <td>0.000001</td>\n",
              "      <td>A</td>\n",
              "      <td>0.203</td>\n",
              "      <td>-14.041</td>\n",
              "      <td>Minor</td>\n",
              "      <td>0.0621</td>\n",
              "      <td>?</td>\n",
              "      <td>4-Apr</td>\n",
              "      <td>0.9250</td>\n",
              "      <td>Blues</td>\n",
              "    </tr>\n",
              "    <tr>\n",
              "      <th>38028</th>\n",
              "      <td>83756.0</td>\n",
              "      <td>Days Of The New</td>\n",
              "      <td>Shelf In The Room</td>\n",
              "      <td>53.0</td>\n",
              "      <td>0.03590</td>\n",
              "      <td>0.623</td>\n",
              "      <td>283973.0</td>\n",
              "      <td>0.5940</td>\n",
              "      <td>0.000137</td>\n",
              "      <td>B</td>\n",
              "      <td>0.144</td>\n",
              "      <td>-8.994</td>\n",
              "      <td>Major</td>\n",
              "      <td>0.0263</td>\n",
              "      <td>128.936</td>\n",
              "      <td>4-Apr</td>\n",
              "      <td>0.3360</td>\n",
              "      <td>Rock</td>\n",
              "    </tr>\n",
              "    <tr>\n",
              "      <th>...</th>\n",
              "      <td>...</td>\n",
              "      <td>...</td>\n",
              "      <td>...</td>\n",
              "      <td>...</td>\n",
              "      <td>...</td>\n",
              "      <td>...</td>\n",
              "      <td>...</td>\n",
              "      <td>...</td>\n",
              "      <td>...</td>\n",
              "      <td>...</td>\n",
              "      <td>...</td>\n",
              "      <td>...</td>\n",
              "      <td>...</td>\n",
              "      <td>...</td>\n",
              "      <td>...</td>\n",
              "      <td>...</td>\n",
              "      <td>...</td>\n",
              "      <td>...</td>\n",
              "    </tr>\n",
              "    <tr>\n",
              "      <th>861</th>\n",
              "      <td>41275.0</td>\n",
              "      <td>Kai Wachi</td>\n",
              "      <td>Eminence</td>\n",
              "      <td>26.0</td>\n",
              "      <td>0.00378</td>\n",
              "      <td>0.804</td>\n",
              "      <td>189370.0</td>\n",
              "      <td>0.6850</td>\n",
              "      <td>0.704000</td>\n",
              "      <td>E</td>\n",
              "      <td>0.110</td>\n",
              "      <td>-7.404</td>\n",
              "      <td>Minor</td>\n",
              "      <td>0.0521</td>\n",
              "      <td>?</td>\n",
              "      <td>4-Apr</td>\n",
              "      <td>0.2220</td>\n",
              "      <td>Electronic</td>\n",
              "    </tr>\n",
              "    <tr>\n",
              "      <th>30738</th>\n",
              "      <td>71021.0</td>\n",
              "      <td>The Marcus King Band</td>\n",
              "      <td>Fraudulent Waffle</td>\n",
              "      <td>29.0</td>\n",
              "      <td>0.05740</td>\n",
              "      <td>0.245</td>\n",
              "      <td>320694.0</td>\n",
              "      <td>0.8080</td>\n",
              "      <td>0.851000</td>\n",
              "      <td>F</td>\n",
              "      <td>0.286</td>\n",
              "      <td>-8.328</td>\n",
              "      <td>Minor</td>\n",
              "      <td>0.1810</td>\n",
              "      <td>67.748</td>\n",
              "      <td>4-Apr</td>\n",
              "      <td>0.2510</td>\n",
              "      <td>Blues</td>\n",
              "    </tr>\n",
              "    <tr>\n",
              "      <th>2620</th>\n",
              "      <td>55466.0</td>\n",
              "      <td>Sneaker Pimps</td>\n",
              "      <td>Kiro TV</td>\n",
              "      <td>36.0</td>\n",
              "      <td>0.00594</td>\n",
              "      <td>0.646</td>\n",
              "      <td>223640.0</td>\n",
              "      <td>0.7850</td>\n",
              "      <td>0.101000</td>\n",
              "      <td>D</td>\n",
              "      <td>0.132</td>\n",
              "      <td>-4.319</td>\n",
              "      <td>Major</td>\n",
              "      <td>0.0355</td>\n",
              "      <td>139.001</td>\n",
              "      <td>4-Apr</td>\n",
              "      <td>0.3360</td>\n",
              "      <td>Electronic</td>\n",
              "    </tr>\n",
              "    <tr>\n",
              "      <th>3899</th>\n",
              "      <td>47820.0</td>\n",
              "      <td>Rusko</td>\n",
              "      <td>Look Out!</td>\n",
              "      <td>35.0</td>\n",
              "      <td>0.01290</td>\n",
              "      <td>0.769</td>\n",
              "      <td>213560.0</td>\n",
              "      <td>0.8310</td>\n",
              "      <td>0.016700</td>\n",
              "      <td>C#</td>\n",
              "      <td>0.174</td>\n",
              "      <td>-1.207</td>\n",
              "      <td>Minor</td>\n",
              "      <td>0.0534</td>\n",
              "      <td>?</td>\n",
              "      <td>4-Apr</td>\n",
              "      <td>0.0716</td>\n",
              "      <td>Electronic</td>\n",
              "    </tr>\n",
              "    <tr>\n",
              "      <th>11984</th>\n",
              "      <td>57382.0</td>\n",
              "      <td>Brian Tarquin</td>\n",
              "      <td>Freeway Jam</td>\n",
              "      <td>30.0</td>\n",
              "      <td>0.22000</td>\n",
              "      <td>0.672</td>\n",
              "      <td>281893.0</td>\n",
              "      <td>0.6040</td>\n",
              "      <td>0.894000</td>\n",
              "      <td>C</td>\n",
              "      <td>0.166</td>\n",
              "      <td>-10.160</td>\n",
              "      <td>Major</td>\n",
              "      <td>0.0291</td>\n",
              "      <td>99.978</td>\n",
              "      <td>4-Apr</td>\n",
              "      <td>0.8920</td>\n",
              "      <td>Jazz</td>\n",
              "    </tr>\n",
              "  </tbody>\n",
              "</table>\n",
              "<p>18984 rows × 18 columns</p>\n",
              "</div>\n",
              "      <button class=\"colab-df-convert\" onclick=\"convertToInteractive('df-e8dab2e7-8621-43fe-931d-9f4076c3624b')\"\n",
              "              title=\"Convert this dataframe to an interactive table.\"\n",
              "              style=\"display:none;\">\n",
              "        \n",
              "  <svg xmlns=\"http://www.w3.org/2000/svg\" height=\"24px\"viewBox=\"0 0 24 24\"\n",
              "       width=\"24px\">\n",
              "    <path d=\"M0 0h24v24H0V0z\" fill=\"none\"/>\n",
              "    <path d=\"M18.56 5.44l.94 2.06.94-2.06 2.06-.94-2.06-.94-.94-2.06-.94 2.06-2.06.94zm-11 1L8.5 8.5l.94-2.06 2.06-.94-2.06-.94L8.5 2.5l-.94 2.06-2.06.94zm10 10l.94 2.06.94-2.06 2.06-.94-2.06-.94-.94-2.06-.94 2.06-2.06.94z\"/><path d=\"M17.41 7.96l-1.37-1.37c-.4-.4-.92-.59-1.43-.59-.52 0-1.04.2-1.43.59L10.3 9.45l-7.72 7.72c-.78.78-.78 2.05 0 2.83L4 21.41c.39.39.9.59 1.41.59.51 0 1.02-.2 1.41-.59l7.78-7.78 2.81-2.81c.8-.78.8-2.07 0-2.86zM5.41 20L4 18.59l7.72-7.72 1.47 1.35L5.41 20z\"/>\n",
              "  </svg>\n",
              "      </button>\n",
              "      \n",
              "  <style>\n",
              "    .colab-df-container {\n",
              "      display:flex;\n",
              "      flex-wrap:wrap;\n",
              "      gap: 12px;\n",
              "    }\n",
              "\n",
              "    .colab-df-convert {\n",
              "      background-color: #E8F0FE;\n",
              "      border: none;\n",
              "      border-radius: 50%;\n",
              "      cursor: pointer;\n",
              "      display: none;\n",
              "      fill: #1967D2;\n",
              "      height: 32px;\n",
              "      padding: 0 0 0 0;\n",
              "      width: 32px;\n",
              "    }\n",
              "\n",
              "    .colab-df-convert:hover {\n",
              "      background-color: #E2EBFA;\n",
              "      box-shadow: 0px 1px 2px rgba(60, 64, 67, 0.3), 0px 1px 3px 1px rgba(60, 64, 67, 0.15);\n",
              "      fill: #174EA6;\n",
              "    }\n",
              "\n",
              "    [theme=dark] .colab-df-convert {\n",
              "      background-color: #3B4455;\n",
              "      fill: #D2E3FC;\n",
              "    }\n",
              "\n",
              "    [theme=dark] .colab-df-convert:hover {\n",
              "      background-color: #434B5C;\n",
              "      box-shadow: 0px 1px 3px 1px rgba(0, 0, 0, 0.15);\n",
              "      filter: drop-shadow(0px 1px 2px rgba(0, 0, 0, 0.3));\n",
              "      fill: #FFFFFF;\n",
              "    }\n",
              "  </style>\n",
              "\n",
              "      <script>\n",
              "        const buttonEl =\n",
              "          document.querySelector('#df-e8dab2e7-8621-43fe-931d-9f4076c3624b button.colab-df-convert');\n",
              "        buttonEl.style.display =\n",
              "          google.colab.kernel.accessAllowed ? 'block' : 'none';\n",
              "\n",
              "        async function convertToInteractive(key) {\n",
              "          const element = document.querySelector('#df-e8dab2e7-8621-43fe-931d-9f4076c3624b');\n",
              "          const dataTable =\n",
              "            await google.colab.kernel.invokeFunction('convertToInteractive',\n",
              "                                                     [key], {});\n",
              "          if (!dataTable) return;\n",
              "\n",
              "          const docLinkHtml = 'Like what you see? Visit the ' +\n",
              "            '<a target=\"_blank\" href=https://colab.research.google.com/notebooks/data_table.ipynb>data table notebook</a>'\n",
              "            + ' to learn more about interactive tables.';\n",
              "          element.innerHTML = '';\n",
              "          dataTable['output_type'] = 'display_data';\n",
              "          await google.colab.output.renderOutput(dataTable, element);\n",
              "          const docLink = document.createElement('div');\n",
              "          docLink.innerHTML = docLinkHtml;\n",
              "          element.appendChild(docLink);\n",
              "        }\n",
              "      </script>\n",
              "    </div>\n",
              "  </div>\n",
              "  "
            ]
          },
          "metadata": {},
          "execution_count": 6
        }
      ]
    },
    {
      "cell_type": "markdown",
      "source": [
        "### Задание 2\n",
        "\n",
        "1. Выведите долю каждого жанра в датасете.\n",
        "2. Покажите на горизонтальной столбиковой диаграмме распределение количества треков по жанрам. Выделите контрастным цветом жанр, в котором больше всего песен.\n",
        "3. Найдите самый танцевальный жанр. У самого танцевального жанра среднее значение показателя danceability должно быть наивысшим.\n",
        "4. Для каждого жанра определите, какая тональность в нем преобладает – количество треков какой тональность больше (минор или мажор)."
      ],
      "metadata": {
        "id": "P3BidIDExIrK"
      }
    },
    {
      "cell_type": "code",
      "source": [
        "# 1\n",
        "genres = list(df['music_genre'].unique())\n",
        "genres.pop()\n",
        "count = []\n",
        "percentage = []\n",
        "for genre in genres:\n",
        "  count.append(len(df[df['music_genre'] == genre]))\n",
        "  percentage.append((len(df[df['music_genre'] == genre]) / len(df)) * 100)\n",
        "\n",
        "df_dict = pd.DataFrame({\"genre\": genres, \"amount\": count, \"percantage\": percentage})\n",
        "df_dict\n"
      ],
      "metadata": {
        "id": "0j2MWLdoytCV",
        "colab": {
          "base_uri": "https://localhost:8080/",
          "height": 359
        },
        "outputId": "430c6854-3c4a-4bc8-b221-bb76f771c230"
      },
      "execution_count": 7,
      "outputs": [
        {
          "output_type": "execute_result",
          "data": {
            "text/plain": [
              "         genre  amount  percantage\n",
              "0         Jazz    1920   10.113780\n",
              "1      Hip-Hop    1876    9.882006\n",
              "2    Classical    1906   10.040034\n",
              "3        Blues    1842    9.702908\n",
              "4         Rock    1927   10.150653\n",
              "5      Country    1877    9.887273\n",
              "6        Anime    1924   10.134850\n",
              "7  Alternative    1893    9.971555\n",
              "8   Electronic    1894    9.976823\n",
              "9          Rap    1924   10.134850"
            ],
            "text/html": [
              "\n",
              "  <div id=\"df-52ff498a-67c2-4f3b-bccb-2673074a8ef7\">\n",
              "    <div class=\"colab-df-container\">\n",
              "      <div>\n",
              "<style scoped>\n",
              "    .dataframe tbody tr th:only-of-type {\n",
              "        vertical-align: middle;\n",
              "    }\n",
              "\n",
              "    .dataframe tbody tr th {\n",
              "        vertical-align: top;\n",
              "    }\n",
              "\n",
              "    .dataframe thead th {\n",
              "        text-align: right;\n",
              "    }\n",
              "</style>\n",
              "<table border=\"1\" class=\"dataframe\">\n",
              "  <thead>\n",
              "    <tr style=\"text-align: right;\">\n",
              "      <th></th>\n",
              "      <th>genre</th>\n",
              "      <th>amount</th>\n",
              "      <th>percantage</th>\n",
              "    </tr>\n",
              "  </thead>\n",
              "  <tbody>\n",
              "    <tr>\n",
              "      <th>0</th>\n",
              "      <td>Jazz</td>\n",
              "      <td>1920</td>\n",
              "      <td>10.113780</td>\n",
              "    </tr>\n",
              "    <tr>\n",
              "      <th>1</th>\n",
              "      <td>Hip-Hop</td>\n",
              "      <td>1876</td>\n",
              "      <td>9.882006</td>\n",
              "    </tr>\n",
              "    <tr>\n",
              "      <th>2</th>\n",
              "      <td>Classical</td>\n",
              "      <td>1906</td>\n",
              "      <td>10.040034</td>\n",
              "    </tr>\n",
              "    <tr>\n",
              "      <th>3</th>\n",
              "      <td>Blues</td>\n",
              "      <td>1842</td>\n",
              "      <td>9.702908</td>\n",
              "    </tr>\n",
              "    <tr>\n",
              "      <th>4</th>\n",
              "      <td>Rock</td>\n",
              "      <td>1927</td>\n",
              "      <td>10.150653</td>\n",
              "    </tr>\n",
              "    <tr>\n",
              "      <th>5</th>\n",
              "      <td>Country</td>\n",
              "      <td>1877</td>\n",
              "      <td>9.887273</td>\n",
              "    </tr>\n",
              "    <tr>\n",
              "      <th>6</th>\n",
              "      <td>Anime</td>\n",
              "      <td>1924</td>\n",
              "      <td>10.134850</td>\n",
              "    </tr>\n",
              "    <tr>\n",
              "      <th>7</th>\n",
              "      <td>Alternative</td>\n",
              "      <td>1893</td>\n",
              "      <td>9.971555</td>\n",
              "    </tr>\n",
              "    <tr>\n",
              "      <th>8</th>\n",
              "      <td>Electronic</td>\n",
              "      <td>1894</td>\n",
              "      <td>9.976823</td>\n",
              "    </tr>\n",
              "    <tr>\n",
              "      <th>9</th>\n",
              "      <td>Rap</td>\n",
              "      <td>1924</td>\n",
              "      <td>10.134850</td>\n",
              "    </tr>\n",
              "  </tbody>\n",
              "</table>\n",
              "</div>\n",
              "      <button class=\"colab-df-convert\" onclick=\"convertToInteractive('df-52ff498a-67c2-4f3b-bccb-2673074a8ef7')\"\n",
              "              title=\"Convert this dataframe to an interactive table.\"\n",
              "              style=\"display:none;\">\n",
              "        \n",
              "  <svg xmlns=\"http://www.w3.org/2000/svg\" height=\"24px\"viewBox=\"0 0 24 24\"\n",
              "       width=\"24px\">\n",
              "    <path d=\"M0 0h24v24H0V0z\" fill=\"none\"/>\n",
              "    <path d=\"M18.56 5.44l.94 2.06.94-2.06 2.06-.94-2.06-.94-.94-2.06-.94 2.06-2.06.94zm-11 1L8.5 8.5l.94-2.06 2.06-.94-2.06-.94L8.5 2.5l-.94 2.06-2.06.94zm10 10l.94 2.06.94-2.06 2.06-.94-2.06-.94-.94-2.06-.94 2.06-2.06.94z\"/><path d=\"M17.41 7.96l-1.37-1.37c-.4-.4-.92-.59-1.43-.59-.52 0-1.04.2-1.43.59L10.3 9.45l-7.72 7.72c-.78.78-.78 2.05 0 2.83L4 21.41c.39.39.9.59 1.41.59.51 0 1.02-.2 1.41-.59l7.78-7.78 2.81-2.81c.8-.78.8-2.07 0-2.86zM5.41 20L4 18.59l7.72-7.72 1.47 1.35L5.41 20z\"/>\n",
              "  </svg>\n",
              "      </button>\n",
              "      \n",
              "  <style>\n",
              "    .colab-df-container {\n",
              "      display:flex;\n",
              "      flex-wrap:wrap;\n",
              "      gap: 12px;\n",
              "    }\n",
              "\n",
              "    .colab-df-convert {\n",
              "      background-color: #E8F0FE;\n",
              "      border: none;\n",
              "      border-radius: 50%;\n",
              "      cursor: pointer;\n",
              "      display: none;\n",
              "      fill: #1967D2;\n",
              "      height: 32px;\n",
              "      padding: 0 0 0 0;\n",
              "      width: 32px;\n",
              "    }\n",
              "\n",
              "    .colab-df-convert:hover {\n",
              "      background-color: #E2EBFA;\n",
              "      box-shadow: 0px 1px 2px rgba(60, 64, 67, 0.3), 0px 1px 3px 1px rgba(60, 64, 67, 0.15);\n",
              "      fill: #174EA6;\n",
              "    }\n",
              "\n",
              "    [theme=dark] .colab-df-convert {\n",
              "      background-color: #3B4455;\n",
              "      fill: #D2E3FC;\n",
              "    }\n",
              "\n",
              "    [theme=dark] .colab-df-convert:hover {\n",
              "      background-color: #434B5C;\n",
              "      box-shadow: 0px 1px 3px 1px rgba(0, 0, 0, 0.15);\n",
              "      filter: drop-shadow(0px 1px 2px rgba(0, 0, 0, 0.3));\n",
              "      fill: #FFFFFF;\n",
              "    }\n",
              "  </style>\n",
              "\n",
              "      <script>\n",
              "        const buttonEl =\n",
              "          document.querySelector('#df-52ff498a-67c2-4f3b-bccb-2673074a8ef7 button.colab-df-convert');\n",
              "        buttonEl.style.display =\n",
              "          google.colab.kernel.accessAllowed ? 'block' : 'none';\n",
              "\n",
              "        async function convertToInteractive(key) {\n",
              "          const element = document.querySelector('#df-52ff498a-67c2-4f3b-bccb-2673074a8ef7');\n",
              "          const dataTable =\n",
              "            await google.colab.kernel.invokeFunction('convertToInteractive',\n",
              "                                                     [key], {});\n",
              "          if (!dataTable) return;\n",
              "\n",
              "          const docLinkHtml = 'Like what you see? Visit the ' +\n",
              "            '<a target=\"_blank\" href=https://colab.research.google.com/notebooks/data_table.ipynb>data table notebook</a>'\n",
              "            + ' to learn more about interactive tables.';\n",
              "          element.innerHTML = '';\n",
              "          dataTable['output_type'] = 'display_data';\n",
              "          await google.colab.output.renderOutput(dataTable, element);\n",
              "          const docLink = document.createElement('div');\n",
              "          docLink.innerHTML = docLinkHtml;\n",
              "          element.appendChild(docLink);\n",
              "        }\n",
              "      </script>\n",
              "    </div>\n",
              "  </div>\n",
              "  "
            ]
          },
          "metadata": {},
          "execution_count": 7
        }
      ]
    },
    {
      "cell_type": "code",
      "source": [
        "# 2\n",
        "clrs = ['grey' if (x < max(df_dict['amount'].values.tolist())) else 'red' for x in df_dict['amount'].values.tolist()]\n",
        "sns.barplot(x=df_dict['amount'], y=df_dict['genre'], palette=clrs, orient='h')"
      ],
      "metadata": {
        "colab": {
          "base_uri": "https://localhost:8080/",
          "height": 466
        },
        "id": "uqFUcilXPTMG",
        "outputId": "11748c17-e9cf-4f4c-903a-eca61260c2d1"
      },
      "execution_count": 8,
      "outputs": [
        {
          "output_type": "execute_result",
          "data": {
            "text/plain": [
              "<Axes: xlabel='amount', ylabel='genre'>"
            ]
          },
          "metadata": {},
          "execution_count": 8
        },
        {
          "output_type": "display_data",
          "data": {
            "text/plain": [
              "<Figure size 640x480 with 1 Axes>"
            ],
            "image/png": "[encoded data removed]"
          },
          "metadata": {}
        }
      ]
    },
    {
      "cell_type": "code",
      "source": [
        "# 3\n",
        "d = pd.DataFrame(columns=['genre', 'tempo'])\n",
        "for genre in genres:\n",
        "  temp = df[df['music_genre'] == genre]\n",
        "  d.loc[len(d)] = [genre, temp['danceability'].mean()]\n",
        "  \n",
        "d.loc[d['tempo'].idxmax()]"
      ],
      "metadata": {
        "colab": {
          "base_uri": "https://localhost:8080/"
        },
        "id": "JQ2GH7dJhMsv",
        "outputId": "2b919573-1db8-447f-f277-48d88357da61"
      },
      "execution_count": 9,
      "outputs": [
        {
          "output_type": "execute_result",
          "data": {
            "text/plain": [
              "genre     Hip-Hop\n",
              "tempo    0.714851\n",
              "Name: 1, dtype: object"
            ]
          },
          "metadata": {},
          "execution_count": 9
        }
      ]
    },
    {
      "cell_type": "code",
      "source": [
        "# 4\n",
        "minmaj = pd.DataFrame(columns=['genre', 'minor', 'major', 'max_am'])\n",
        "for genre in genres:\n",
        "  temp = df[df['music_genre'] == genre]\n",
        "  min = len(temp[temp['mode'] == 'Minor'])\n",
        "  maj = len(temp[temp['mode'] == 'Major'])\n",
        "  minmaj.loc[len(minmaj)] = [genre, min, maj, 'minor' if min >= maj else 'major']\n",
        "  \n",
        "minmaj"
      ],
      "metadata": {
        "colab": {
          "base_uri": "https://localhost:8080/",
          "height": 359
        },
        "id": "uTpqrZ2otILt",
        "outputId": "1e9b8521-d42c-493e-8df7-14163ec1bb48"
      },
      "execution_count": 10,
      "outputs": [
        {
          "output_type": "execute_result",
          "data": {
            "text/plain": [
              "         genre  minor  major max_am\n",
              "0         Jazz    899   1021  major\n",
              "1      Hip-Hop    803   1073  major\n",
              "2    Classical    624   1282  major\n",
              "3        Blues    558   1284  major\n",
              "4         Rock    487   1440  major\n",
              "5      Country    239   1638  major\n",
              "6        Anime    711   1213  major\n",
              "7  Alternative    676   1217  major\n",
              "8   Electronic    876   1018  major\n",
              "9          Rap    848   1076  major"
            ],
            "text/html": [
              "\n",
              "  <div id=\"df-163b3bb7-ca25-46f7-b089-605c23feb619\">\n",
              "    <div class=\"colab-df-container\">\n",
              "      <div>\n",
              "<style scoped>\n",
              "    .dataframe tbody tr th:only-of-type {\n",
              "        vertical-align: middle;\n",
              "    }\n",
              "\n",
              "    .dataframe tbody tr th {\n",
              "        vertical-align: top;\n",
              "    }\n",
              "\n",
              "    .dataframe thead th {\n",
              "        text-align: right;\n",
              "    }\n",
              "</style>\n",
              "<table border=\"1\" class=\"dataframe\">\n",
              "  <thead>\n",
              "    <tr style=\"text-align: right;\">\n",
              "      <th></th>\n",
              "      <th>genre</th>\n",
              "      <th>minor</th>\n",
              "      <th>major</th>\n",
              "      <th>max_am</th>\n",
              "    </tr>\n",
              "  </thead>\n",
              "  <tbody>\n",
              "    <tr>\n",
              "      <th>0</th>\n",
              "      <td>Jazz</td>\n",
              "      <td>899</td>\n",
              "      <td>1021</td>\n",
              "      <td>major</td>\n",
              "    </tr>\n",
              "    <tr>\n",
              "      <th>1</th>\n",
              "      <td>Hip-Hop</td>\n",
              "      <td>803</td>\n",
              "      <td>1073</td>\n",
              "      <td>major</td>\n",
              "    </tr>\n",
              "    <tr>\n",
              "      <th>2</th>\n",
              "      <td>Classical</td>\n",
              "      <td>624</td>\n",
              "      <td>1282</td>\n",
              "      <td>major</td>\n",
              "    </tr>\n",
              "    <tr>\n",
              "      <th>3</th>\n",
              "      <td>Blues</td>\n",
              "      <td>558</td>\n",
              "      <td>1284</td>\n",
              "      <td>major</td>\n",
              "    </tr>\n",
              "    <tr>\n",
              "      <th>4</th>\n",
              "      <td>Rock</td>\n",
              "      <td>487</td>\n",
              "      <td>1440</td>\n",
              "      <td>major</td>\n",
              "    </tr>\n",
              "    <tr>\n",
              "      <th>5</th>\n",
              "      <td>Country</td>\n",
              "      <td>239</td>\n",
              "      <td>1638</td>\n",
              "      <td>major</td>\n",
              "    </tr>\n",
              "    <tr>\n",
              "      <th>6</th>\n",
              "      <td>Anime</td>\n",
              "      <td>711</td>\n",
              "      <td>1213</td>\n",
              "      <td>major</td>\n",
              "    </tr>\n",
              "    <tr>\n",
              "      <th>7</th>\n",
              "      <td>Alternative</td>\n",
              "      <td>676</td>\n",
              "      <td>1217</td>\n",
              "      <td>major</td>\n",
              "    </tr>\n",
              "    <tr>\n",
              "      <th>8</th>\n",
              "      <td>Electronic</td>\n",
              "      <td>876</td>\n",
              "      <td>1018</td>\n",
              "      <td>major</td>\n",
              "    </tr>\n",
              "    <tr>\n",
              "      <th>9</th>\n",
              "      <td>Rap</td>\n",
              "      <td>848</td>\n",
              "      <td>1076</td>\n",
              "      <td>major</td>\n",
              "    </tr>\n",
              "  </tbody>\n",
              "</table>\n",
              "</div>\n",
              "      <button class=\"colab-df-convert\" onclick=\"convertToInteractive('df-163b3bb7-ca25-46f7-b089-605c23feb619')\"\n",
              "              title=\"Convert this dataframe to an interactive table.\"\n",
              "              style=\"display:none;\">\n",
              "        \n",
              "  <svg xmlns=\"http://www.w3.org/2000/svg\" height=\"24px\"viewBox=\"0 0 24 24\"\n",
              "       width=\"24px\">\n",
              "    <path d=\"M0 0h24v24H0V0z\" fill=\"none\"/>\n",
              "    <path d=\"M18.56 5.44l.94 2.06.94-2.06 2.06-.94-2.06-.94-.94-2.06-.94 2.06-2.06.94zm-11 1L8.5 8.5l.94-2.06 2.06-.94-2.06-.94L8.5 2.5l-.94 2.06-2.06.94zm10 10l.94 2.06.94-2.06 2.06-.94-2.06-.94-.94-2.06-.94 2.06-2.06.94z\"/><path d=\"M17.41 7.96l-1.37-1.37c-.4-.4-.92-.59-1.43-.59-.52 0-1.04.2-1.43.59L10.3 9.45l-7.72 7.72c-.78.78-.78 2.05 0 2.83L4 21.41c.39.39.9.59 1.41.59.51 0 1.02-.2 1.41-.59l7.78-7.78 2.81-2.81c.8-.78.8-2.07 0-2.86zM5.41 20L4 18.59l7.72-7.72 1.47 1.35L5.41 20z\"/>\n",
              "  </svg>\n",
              "      </button>\n",
              "      \n",
              "  <style>\n",
              "    .colab-df-container {\n",
              "      display:flex;\n",
              "      flex-wrap:wrap;\n",
              "      gap: 12px;\n",
              "    }\n",
              "\n",
              "    .colab-df-convert {\n",
              "      background-color: #E8F0FE;\n",
              "      border: none;\n",
              "      border-radius: 50%;\n",
              "      cursor: pointer;\n",
              "      display: none;\n",
              "      fill: #1967D2;\n",
              "      height: 32px;\n",
              "      padding: 0 0 0 0;\n",
              "      width: 32px;\n",
              "    }\n",
              "\n",
              "    .colab-df-convert:hover {\n",
              "      background-color: #E2EBFA;\n",
              "      box-shadow: 0px 1px 2px rgba(60, 64, 67, 0.3), 0px 1px 3px 1px rgba(60, 64, 67, 0.15);\n",
              "      fill: #174EA6;\n",
              "    }\n",
              "\n",
              "    [theme=dark] .colab-df-convert {\n",
              "      background-color: #3B4455;\n",
              "      fill: #D2E3FC;\n",
              "    }\n",
              "\n",
              "    [theme=dark] .colab-df-convert:hover {\n",
              "      background-color: #434B5C;\n",
              "      box-shadow: 0px 1px 3px 1px rgba(0, 0, 0, 0.15);\n",
              "      filter: drop-shadow(0px 1px 2px rgba(0, 0, 0, 0.3));\n",
              "      fill: #FFFFFF;\n",
              "    }\n",
              "  </style>\n",
              "\n",
              "      <script>\n",
              "        const buttonEl =\n",
              "          document.querySelector('#df-163b3bb7-ca25-46f7-b089-605c23feb619 button.colab-df-convert');\n",
              "        buttonEl.style.display =\n",
              "          google.colab.kernel.accessAllowed ? 'block' : 'none';\n",
              "\n",
              "        async function convertToInteractive(key) {\n",
              "          const element = document.querySelector('#df-163b3bb7-ca25-46f7-b089-605c23feb619');\n",
              "          const dataTable =\n",
              "            await google.colab.kernel.invokeFunction('convertToInteractive',\n",
              "                                                     [key], {});\n",
              "          if (!dataTable) return;\n",
              "\n",
              "          const docLinkHtml = 'Like what you see? Visit the ' +\n",
              "            '<a target=\"_blank\" href=https://colab.research.google.com/notebooks/data_table.ipynb>data table notebook</a>'\n",
              "            + ' to learn more about interactive tables.';\n",
              "          element.innerHTML = '';\n",
              "          dataTable['output_type'] = 'display_data';\n",
              "          await google.colab.output.renderOutput(dataTable, element);\n",
              "          const docLink = document.createElement('div');\n",
              "          docLink.innerHTML = docLinkHtml;\n",
              "          element.appendChild(docLink);\n",
              "        }\n",
              "      </script>\n",
              "    </div>\n",
              "  </div>\n",
              "  "
            ]
          },
          "metadata": {},
          "execution_count": 10
        }
      ]
    },
    {
      "cell_type": "markdown",
      "source": [
        "### Задание 3\n",
        "\n",
        "1. Выведите исполнителя, у которого больше всего треков в датасете. И того, у которого их меньше всех.\n",
        "2. Покажите на горизонтральной столбиковой диаграмме топ-20 исполнителей. Изучите результат и сделайте выводы."
      ],
      "metadata": {
        "id": "UFsKd07syxWI"
      }
    },
    {
      "cell_type": "code",
      "source": [
        "df['artist_name'].value_counts().idxmax(), df['artist_name'].value_counts().idxmin()"
      ],
      "metadata": {
        "id": "jm6uJLiPzS_1",
        "colab": {
          "base_uri": "https://localhost:8080/"
        },
        "outputId": "28590c8d-8ef9-4255-ec57-90e220840e29"
      },
      "execution_count": 11,
      "outputs": [
        {
          "output_type": "execute_result",
          "data": {
            "text/plain": [
              "('Nobuo Uematsu', 'Chuck Mangione')"
            ]
          },
          "metadata": {},
          "execution_count": 11
        }
      ]
    },
    {
      "cell_type": "code",
      "source": [
        "top20 = df['artist_name'].value_counts().nlargest(20)\n",
        "sns.barplot(x=top20.values, y=top20.index, orient='h')"
      ],
      "metadata": {
        "colab": {
          "base_uri": "https://localhost:8080/",
          "height": 447
        },
        "id": "00jZjdMYtTvn",
        "outputId": "2f1dca87-1d82-4bec-f4bb-ce5796d30991"
      },
      "execution_count": 12,
      "outputs": [
        {
          "output_type": "execute_result",
          "data": {
            "text/plain": [
              "<Axes: >"
            ]
          },
          "metadata": {},
          "execution_count": 12
        },
        {
          "output_type": "display_data",
          "data": {
            "text/plain": [
              "<Figure size 640x480 with 1 Axes>"
            ],
            "image/png": "[encoded data removed]"
          },
          "metadata": {}
        }
      ]
    },
    {
      "cell_type": "markdown",
      "metadata": {
        "id": "pjBj8HWkr1nI"
      },
      "source": [
        "### Задание 4"
      ]
    },
    {
      "cell_type": "markdown",
      "metadata": {
        "id": "u3nyqiKmwj2F"
      },
      "source": [
        "1. Постройте корреляционную матрицу для характеристик треков. Между какими характеристиками сильная корреляция? Между какими слабая? Есть ли характеристики, между которыми корреляции практически нет.\n",
        "2. Посчитайте корреляцию между популярностью (popularity) и длиной названия трека."
      ]
    },
    {
      "cell_type": "code",
      "metadata": {
        "id": "QN6HDuT9rtVz",
        "colab": {
          "base_uri": "https://localhost:8080/",
          "height": 842
        },
        "outputId": "11b9e514-993f-4b16-92a2-6865d267bdc5"
      },
      "source": [
        "correlation_matrix = df.drop('instance_id', axis=1).corr()\n",
        "plt.figure(figsize=(10,8))\n",
        "sns.heatmap(correlation_matrix, annot=True)\n",
        "plt.show()"
      ],
      "execution_count": 13,
      "outputs": [
        {
          "output_type": "stream",
          "name": "stderr",
          "text": [
            "<ipython-input-13-960cd7893279>:1: FutureWarning: The default value of numeric_only in DataFrame.corr is deprecated. In a future version, it will default to False. Select only valid columns or specify the value of numeric_only to silence this warning.\n",
            "  correlation_matrix = df.drop('instance_id', axis=1).corr()\n"
          ]
        },
        {
          "output_type": "display_data",
          "data": {
            "text/plain": [
              "<Figure size 1000x800 with 2 Axes>"
            ],
            "image/png": "[encoded data removed]"
          },
          "metadata": {}
        }
      ]
    },
    {
      "cell_type": "code",
      "source": [
        "popularity_len = {'popularity':df.popularity, 'name_length': [len(str(x)) for x in df.track_name]}\n",
        "popularity_len_corr = pd.DataFrame(data=popularity_len).corr()\n",
        "plt.figure(figsize=(4,4))\n",
        "sns.heatmap(popularity_len_corr, annot=True)\n",
        "plt.show()"
      ],
      "metadata": {
        "colab": {
          "base_uri": "https://localhost:8080/",
          "height": 374
        },
        "id": "v_mt4zqGIkql",
        "outputId": "7e6ff298-cacc-476c-8000-d42801afbe0b"
      },
      "execution_count": 18,
      "outputs": [
        {
          "output_type": "display_data",
          "data": {
            "text/plain": [
              "<Figure size 400x400 with 2 Axes>"
            ],
            "image/png": "[encoded data removed]"
          },
          "metadata": {}
        }
      ]
    },
    {
      "cell_type": "markdown",
      "metadata": {
        "id": "0ygsFcLSwrTt"
      },
      "source": [
        "### Задание 5\n",
        "\n",
        "Покажите на ящиковой диаграмме отношение популярности треков к жанру. Какие жанры похожи между собой?"
      ]
    },
    {
      "cell_type": "code",
      "metadata": {
        "id": "QKHJ85OHwrTu",
        "colab": {
          "base_uri": "https://localhost:8080/",
          "height": 466
        },
        "outputId": "62eeaf43-8383-4b28-8af1-0e4568739d53"
      },
      "source": [
        "df5 = pd.DataFrame().assign(Genres=df['music_genre'], Popularity=df['popularity'])\n",
        "sns.boxplot(y=df5[\"Genres\"], x=df5[\"Popularity\"])"
      ],
      "execution_count": 14,
      "outputs": [
        {
          "output_type": "execute_result",
          "data": {
            "text/plain": [
              "<Axes: xlabel='Popularity', ylabel='Genres'>"
            ]
          },
          "metadata": {},
          "execution_count": 14
        },
        {
          "output_type": "display_data",
          "data": {
            "text/plain": [
              "<Figure size 640x480 with 1 Axes>"
            ],
            "image/png": "[encoded data removed]"
          },
          "metadata": {}
        }
      ]
    },
    {
      "cell_type": "markdown",
      "metadata": {
        "id": "zrX_7sX_wrd-"
      },
      "source": [
        "### Задание 6"
      ]
    },
    {
      "cell_type": "markdown",
      "metadata": {
        "id": "-YxfmmMSwrd_"
      },
      "source": [
        "Для топ-3 жанров покажите на круговой диаграмме с группировкой самого популярного исполнителя. Диаграмма должна быть одна."
      ]
    },
    {
      "cell_type": "code",
      "metadata": {
        "id": "emEaxEcuwrd_",
        "colab": {
          "base_uri": "https://localhost:8080/",
          "height": 508
        },
        "outputId": "c6d024e0-8dc8-4cdf-b741-d834fc5f936d"
      },
      "source": [
        "top3_genres = df['music_genre'].value_counts().nlargest(3).index\n",
        "list_true_false = [entry in top3_genres for entry in df[\"music_genre\"]]\n",
        "genres_artists = (\n",
        "    df[[\"artist_name\", \"music_genre\"]]\n",
        "    .loc[list_true_false]\n",
        "    .value_counts(sort=True)\n",
        "    .reset_index()\n",
        "    .drop_duplicates(subset=[\"music_genre\"])\n",
        ")\n",
        "val = genres_artists[0].tolist()\n",
        "art_name = genres_artists[\"artist_name\"].tolist()\n",
        "genre_name = genres_artists[\"music_genre\"].tolist()\n",
        "\n",
        "plt.pie(val, labels=art_name, colors=sns.color_palette(\"hls\"))"
      ],
      "execution_count": 15,
      "outputs": [
        {
          "output_type": "execute_result",
          "data": {
            "text/plain": [
              "([<matplotlib.patches.Wedge at 0x7fcd12accfa0>,\n",
              "  <matplotlib.patches.Wedge at 0x7fcd12accee0>,\n",
              "  <matplotlib.patches.Wedge at 0x7fcd12acd8a0>],\n",
              " [Text(-0.6173058071716769, 0.9104578740568531, 'Nobuo Uematsu'),\n",
              "  Text(0.13372782520259524, -1.09184104555864, 'The Beatles'),\n",
              "  Text(0.9787511509798588, -0.5020420146318454, 'Drake')])"
            ]
          },
          "metadata": {},
          "execution_count": 15
        },
        {
          "output_type": "display_data",
          "data": {
            "text/plain": [
              "<Figure size 640x480 with 1 Axes>"
            ],
            "image/png": "[encoded data removed]"
          },
          "metadata": {}
        }
      ]
    },
    {
      "cell_type": "markdown",
      "metadata": {
        "id": "xSf_PxzKwrmy"
      },
      "source": [
        "### Задание 7"
      ]
    },
    {
      "cell_type": "markdown",
      "metadata": {
        "id": "XfsIogcJwrmz"
      },
      "source": [
        "На вертикальной столбиковой диаграмме для самого популярного (popularity) и самого непопулярного жанров покажите средние значения по всем характеристикам. Отрицательные и положительные значения характеристик показывайте разными цветами."
      ]
    },
    {
      "cell_type": "code",
      "source": [
        "df_mean = pd.DataFrame()\n",
        "\n",
        "for genre in genres:\n",
        "  mean = df[df[\"music_genre\"] == genre].mean()\n",
        "  df_mean = df_mean.append(mean, ignore_index=True)\n",
        "\n",
        "df_mean = df_mean.drop([\"instance_id\"], axis=1)\n",
        "df_mean = df_mean.drop([\"duration_ms\"], axis=1)\n",
        "df_mean = df_mean.set_index(pd.Index(genres))"
      ],
      "metadata": {
        "id": "0djx0oK-L316"
      },
      "execution_count": null,
      "outputs": []
    },
    {
      "cell_type": "code",
      "source": [
        "df_mean"
      ],
      "metadata": {
        "colab": {
          "base_uri": "https://localhost:8080/",
          "height": 359
        },
        "id": "wfX49BJCL878",
        "outputId": "f6c25f65-c7f2-4c19-c09b-e1f5872808b6"
      },
      "execution_count": 69,
      "outputs": [
        {
          "output_type": "execute_result",
          "data": {
            "text/plain": [
              "             popularity  acousticness  danceability    energy  \\\n",
              "Jazz          40.569792      0.490821      0.588939  0.484747   \n",
              "Hip-Hop       58.519190      0.174750      0.714851  0.645560   \n",
              "Classical     29.519412      0.865143      0.307526  0.181380   \n",
              "Blues         35.059175      0.318409      0.526467  0.616383   \n",
              "Rock          59.827711      0.196313      0.537271  0.683507   \n",
              "Country       46.048482      0.269645      0.581107  0.641676   \n",
              "Anime         24.174116      0.286475      0.473299  0.666320   \n",
              "Alternative   50.340201      0.160328      0.541971  0.712538   \n",
              "Electronic    37.980993      0.119892      0.617871  0.740526   \n",
              "Rap           60.664761      0.168922      0.698089  0.652535   \n",
              "\n",
              "             instrumentalness  liveness   loudness  speechiness   valence  \n",
              "Jazz                 0.348701  0.178957 -11.073674     0.074849  0.513023  \n",
              "Hip-Hop              0.011063  0.203485  -6.811681     0.201986  0.478781  \n",
              "Classical            0.599876  0.157713 -21.423520     0.050400  0.215043  \n",
              "Blues                0.092362  0.231923  -8.923954     0.062270  0.578958  \n",
              "Rock                 0.056503  0.185186  -7.266100     0.052691  0.513741  \n",
              "Country              0.006141  0.196401  -7.382319     0.050598  0.546085  \n",
              "Anime                0.270056  0.195555  -7.920756     0.065098  0.439783  \n",
              "Alternative          0.065259  0.199287  -6.507978     0.089767  0.447481  \n",
              "Electronic           0.351922  0.211116  -7.066974     0.100708  0.384787  \n",
              "Rap                  0.007545  0.196693  -6.642307     0.185307  0.452651  "
            ],
            "text/html": [
              "\n",
              "  <div id=\"df-b8a030bc-3ebe-4bbd-bcb2-ffda70dfc056\">\n",
              "    <div class=\"colab-df-container\">\n",
              "      <div>\n",
              "<style scoped>\n",
              "    .dataframe tbody tr th:only-of-type {\n",
              "        vertical-align: middle;\n",
              "    }\n",
              "\n",
              "    .dataframe tbody tr th {\n",
              "        vertical-align: top;\n",
              "    }\n",
              "\n",
              "    .dataframe thead th {\n",
              "        text-align: right;\n",
              "    }\n",
              "</style>\n",
              "<table border=\"1\" class=\"dataframe\">\n",
              "  <thead>\n",
              "    <tr style=\"text-align: right;\">\n",
              "      <th></th>\n",
              "      <th>popularity</th>\n",
              "      <th>acousticness</th>\n",
              "      <th>danceability</th>\n",
              "      <th>energy</th>\n",
              "      <th>instrumentalness</th>\n",
              "      <th>liveness</th>\n",
              "      <th>loudness</th>\n",
              "      <th>speechiness</th>\n",
              "      <th>valence</th>\n",
              "    </tr>\n",
              "  </thead>\n",
              "  <tbody>\n",
              "    <tr>\n",
              "      <th>Jazz</th>\n",
              "      <td>40.569792</td>\n",
              "      <td>0.490821</td>\n",
              "      <td>0.588939</td>\n",
              "      <td>0.484747</td>\n",
              "      <td>0.348701</td>\n",
              "      <td>0.178957</td>\n",
              "      <td>-11.073674</td>\n",
              "      <td>0.074849</td>\n",
              "      <td>0.513023</td>\n",
              "    </tr>\n",
              "    <tr>\n",
              "      <th>Hip-Hop</th>\n",
              "      <td>58.519190</td>\n",
              "      <td>0.174750</td>\n",
              "      <td>0.714851</td>\n",
              "      <td>0.645560</td>\n",
              "      <td>0.011063</td>\n",
              "      <td>0.203485</td>\n",
              "      <td>-6.811681</td>\n",
              "      <td>0.201986</td>\n",
              "      <td>0.478781</td>\n",
              "    </tr>\n",
              "    <tr>\n",
              "      <th>Classical</th>\n",
              "      <td>29.519412</td>\n",
              "      <td>0.865143</td>\n",
              "      <td>0.307526</td>\n",
              "      <td>0.181380</td>\n",
              "      <td>0.599876</td>\n",
              "      <td>0.157713</td>\n",
              "      <td>-21.423520</td>\n",
              "      <td>0.050400</td>\n",
              "      <td>0.215043</td>\n",
              "    </tr>\n",
              "    <tr>\n",
              "      <th>Blues</th>\n",
              "      <td>35.059175</td>\n",
              "      <td>0.318409</td>\n",
              "      <td>0.526467</td>\n",
              "      <td>0.616383</td>\n",
              "      <td>0.092362</td>\n",
              "      <td>0.231923</td>\n",
              "      <td>-8.923954</td>\n",
              "      <td>0.062270</td>\n",
              "      <td>0.578958</td>\n",
              "    </tr>\n",
              "    <tr>\n",
              "      <th>Rock</th>\n",
              "      <td>59.827711</td>\n",
              "      <td>0.196313</td>\n",
              "      <td>0.537271</td>\n",
              "      <td>0.683507</td>\n",
              "      <td>0.056503</td>\n",
              "      <td>0.185186</td>\n",
              "      <td>-7.266100</td>\n",
              "      <td>0.052691</td>\n",
              "      <td>0.513741</td>\n",
              "    </tr>\n",
              "    <tr>\n",
              "      <th>Country</th>\n",
              "      <td>46.048482</td>\n",
              "      <td>0.269645</td>\n",
              "      <td>0.581107</td>\n",
              "      <td>0.641676</td>\n",
              "      <td>0.006141</td>\n",
              "      <td>0.196401</td>\n",
              "      <td>-7.382319</td>\n",
              "      <td>0.050598</td>\n",
              "      <td>0.546085</td>\n",
              "    </tr>\n",
              "    <tr>\n",
              "      <th>Anime</th>\n",
              "      <td>24.174116</td>\n",
              "      <td>0.286475</td>\n",
              "      <td>0.473299</td>\n",
              "      <td>0.666320</td>\n",
              "      <td>0.270056</td>\n",
              "      <td>0.195555</td>\n",
              "      <td>-7.920756</td>\n",
              "      <td>0.065098</td>\n",
              "      <td>0.439783</td>\n",
              "    </tr>\n",
              "    <tr>\n",
              "      <th>Alternative</th>\n",
              "      <td>50.340201</td>\n",
              "      <td>0.160328</td>\n",
              "      <td>0.541971</td>\n",
              "      <td>0.712538</td>\n",
              "      <td>0.065259</td>\n",
              "      <td>0.199287</td>\n",
              "      <td>-6.507978</td>\n",
              "      <td>0.089767</td>\n",
              "      <td>0.447481</td>\n",
              "    </tr>\n",
              "    <tr>\n",
              "      <th>Electronic</th>\n",
              "      <td>37.980993</td>\n",
              "      <td>0.119892</td>\n",
              "      <td>0.617871</td>\n",
              "      <td>0.740526</td>\n",
              "      <td>0.351922</td>\n",
              "      <td>0.211116</td>\n",
              "      <td>-7.066974</td>\n",
              "      <td>0.100708</td>\n",
              "      <td>0.384787</td>\n",
              "    </tr>\n",
              "    <tr>\n",
              "      <th>Rap</th>\n",
              "      <td>60.664761</td>\n",
              "      <td>0.168922</td>\n",
              "      <td>0.698089</td>\n",
              "      <td>0.652535</td>\n",
              "      <td>0.007545</td>\n",
              "      <td>0.196693</td>\n",
              "      <td>-6.642307</td>\n",
              "      <td>0.185307</td>\n",
              "      <td>0.452651</td>\n",
              "    </tr>\n",
              "  </tbody>\n",
              "</table>\n",
              "</div>\n",
              "      <button class=\"colab-df-convert\" onclick=\"convertToInteractive('df-b8a030bc-3ebe-4bbd-bcb2-ffda70dfc056')\"\n",
              "              title=\"Convert this dataframe to an interactive table.\"\n",
              "              style=\"display:none;\">\n",
              "        \n",
              "  <svg xmlns=\"http://www.w3.org/2000/svg\" height=\"24px\"viewBox=\"0 0 24 24\"\n",
              "       width=\"24px\">\n",
              "    <path d=\"M0 0h24v24H0V0z\" fill=\"none\"/>\n",
              "    <path d=\"M18.56 5.44l.94 2.06.94-2.06 2.06-.94-2.06-.94-.94-2.06-.94 2.06-2.06.94zm-11 1L8.5 8.5l.94-2.06 2.06-.94-2.06-.94L8.5 2.5l-.94 2.06-2.06.94zm10 10l.94 2.06.94-2.06 2.06-.94-2.06-.94-.94-2.06-.94 2.06-2.06.94z\"/><path d=\"M17.41 7.96l-1.37-1.37c-.4-.4-.92-.59-1.43-.59-.52 0-1.04.2-1.43.59L10.3 9.45l-7.72 7.72c-.78.78-.78 2.05 0 2.83L4 21.41c.39.39.9.59 1.41.59.51 0 1.02-.2 1.41-.59l7.78-7.78 2.81-2.81c.8-.78.8-2.07 0-2.86zM5.41 20L4 18.59l7.72-7.72 1.47 1.35L5.41 20z\"/>\n",
              "  </svg>\n",
              "      </button>\n",
              "      \n",
              "  <style>\n",
              "    .colab-df-container {\n",
              "      display:flex;\n",
              "      flex-wrap:wrap;\n",
              "      gap: 12px;\n",
              "    }\n",
              "\n",
              "    .colab-df-convert {\n",
              "      background-color: #E8F0FE;\n",
              "      border: none;\n",
              "      border-radius: 50%;\n",
              "      cursor: pointer;\n",
              "      display: none;\n",
              "      fill: #1967D2;\n",
              "      height: 32px;\n",
              "      padding: 0 0 0 0;\n",
              "      width: 32px;\n",
              "    }\n",
              "\n",
              "    .colab-df-convert:hover {\n",
              "      background-color: #E2EBFA;\n",
              "      box-shadow: 0px 1px 2px rgba(60, 64, 67, 0.3), 0px 1px 3px 1px rgba(60, 64, 67, 0.15);\n",
              "      fill: #174EA6;\n",
              "    }\n",
              "\n",
              "    [theme=dark] .colab-df-convert {\n",
              "      background-color: #3B4455;\n",
              "      fill: #D2E3FC;\n",
              "    }\n",
              "\n",
              "    [theme=dark] .colab-df-convert:hover {\n",
              "      background-color: #434B5C;\n",
              "      box-shadow: 0px 1px 3px 1px rgba(0, 0, 0, 0.15);\n",
              "      filter: drop-shadow(0px 1px 2px rgba(0, 0, 0, 0.3));\n",
              "      fill: #FFFFFF;\n",
              "    }\n",
              "  </style>\n",
              "\n",
              "      <script>\n",
              "        const buttonEl =\n",
              "          document.querySelector('#df-b8a030bc-3ebe-4bbd-bcb2-ffda70dfc056 button.colab-df-convert');\n",
              "        buttonEl.style.display =\n",
              "          google.colab.kernel.accessAllowed ? 'block' : 'none';\n",
              "\n",
              "        async function convertToInteractive(key) {\n",
              "          const element = document.querySelector('#df-b8a030bc-3ebe-4bbd-bcb2-ffda70dfc056');\n",
              "          const dataTable =\n",
              "            await google.colab.kernel.invokeFunction('convertToInteractive',\n",
              "                                                     [key], {});\n",
              "          if (!dataTable) return;\n",
              "\n",
              "          const docLinkHtml = 'Like what you see? Visit the ' +\n",
              "            '<a target=\"_blank\" href=https://colab.research.google.com/notebooks/data_table.ipynb>data table notebook</a>'\n",
              "            + ' to learn more about interactive tables.';\n",
              "          element.innerHTML = '';\n",
              "          dataTable['output_type'] = 'display_data';\n",
              "          await google.colab.output.renderOutput(dataTable, element);\n",
              "          const docLink = document.createElement('div');\n",
              "          docLink.innerHTML = docLinkHtml;\n",
              "          element.appendChild(docLink);\n",
              "        }\n",
              "      </script>\n",
              "    </div>\n",
              "  </div>\n",
              "  "
            ]
          },
          "metadata": {},
          "execution_count": 69
        }
      ]
    },
    {
      "cell_type": "code",
      "metadata": {
        "id": "_qfk7y5Mwrmz",
        "colab": {
          "base_uri": "https://localhost:8080/"
        },
        "outputId": "60888e04-9258-45c9-93eb-65989ea6ecde"
      },
      "source": [
        "df_mean = df_mean.sort_values(by=\"popularity\", ascending=False)\n",
        "df_mean = df_mean.drop([\"popularity\"], axis=1)\n",
        "\n",
        "top_g = df_mean.iloc[0]\n",
        "bottom_g = df_mean.iloc[-1]\n",
        "top_g, bottom_g"
      ],
      "execution_count": 70,
      "outputs": [
        {
          "output_type": "execute_result",
          "data": {
            "text/plain": [
              "(acousticness        0.168922\n",
              " danceability        0.698089\n",
              " energy              0.652535\n",
              " instrumentalness    0.007545\n",
              " liveness            0.196693\n",
              " loudness           -6.642307\n",
              " speechiness         0.185307\n",
              " valence             0.452651\n",
              " Name: Rap, dtype: float64,\n",
              " acousticness        0.286475\n",
              " danceability        0.473299\n",
              " energy              0.666320\n",
              " instrumentalness    0.270056\n",
              " liveness            0.195555\n",
              " loudness           -7.920756\n",
              " speechiness         0.065098\n",
              " valence             0.439783\n",
              " Name: Anime, dtype: float64)"
            ]
          },
          "metadata": {},
          "execution_count": 70
        }
      ]
    },
    {
      "cell_type": "code",
      "source": [
        "fig, ax = plt.subplots(1, 2, figsize=(10, 5))\n",
        "\n",
        "ax[0].set_title(top_g.name)\n",
        "ax[1].set_title(bottom_g.name)\n",
        "\n",
        "ax[0].set_ylabel(f\"Mean value {top_g.name}\")\n",
        "ax[1].set_ylabel(f\"Mean value {bottom_g.name}\")\n",
        "ax[0].set_xticks(range(len(df_mean.columns)))\n",
        "ax[1].set_xticks(range(len(df_mean.columns)))\n",
        "ax[0].set_xticklabels(df_mean.columns, rotation=90)\n",
        "ax[1].set_xticklabels(df_mean.columns, rotation=90)\n",
        "\n",
        "\n",
        "top_g.plot.bar(ax=ax[0], color=[\"green\" if x > 0 else \"red\" for x in top_g])\n",
        "bottom_g.plot.bar(ax=ax[1], color=[\"green\" if x > 0 else \"red\" for x in bottom_g])\n",
        "plt.show()"
      ],
      "metadata": {
        "colab": {
          "base_uri": "https://localhost:8080/",
          "height": 574
        },
        "id": "1V9K58I_Fk5A",
        "outputId": "4aae46f0-86a0-47a8-9358-1f2169baf9a4"
      },
      "execution_count": 72,
      "outputs": [
        {
          "output_type": "display_data",
          "data": {
            "text/plain": [
              "<Figure size 1000x500 with 2 Axes>"
            ],
            "image/png": "[encoded data removed]"
          },
          "metadata": {}
        }
      ]
    },
    {
      "cell_type": "markdown",
      "metadata": {
        "id": "CxGr4PzCwrvk"
      },
      "source": [
        "### Задание 8"
      ]
    },
    {
      "cell_type": "markdown",
      "metadata": {
        "id": "40NA2CMZwrvk"
      },
      "source": [
        "1. Добавьте в данные категориальный столбец `длительность_трека`, в котором будут значения: \"короткая\" (<=3min), \"средняя\" (>3min, <=5min), \"длинная\" (>5min). \n",
        "2. Покажите график плотности распределения данных в столбце `loudness`, сгруппированных по категориям длительности.\n",
        "3. На круговой диаграмме вида \"пончик\" покажите численное соотношение треков разной длительности."
      ]
    },
    {
      "cell_type": "code",
      "metadata": {
        "id": "C8mkWk2fwrvl"
      },
      "source": [
        "val_ = df[\"duration_ms\"] * 0.001 / 60\n",
        "conditions = [val_ <= 3, val_ > 5]\n",
        "values = [\"короткая\", \"длинная\"]\n",
        "df[\"track_length\"] = np.select(conditions, values)\n",
        "df[\"track_length\"] = df[\"track_length\"].replace(\"0\", \"средняя\")\n",
        "df.head()"
      ],
      "execution_count": null,
      "outputs": []
    },
    {
      "cell_type": "code",
      "source": [
        "track_len_labels = df[\"track_length\"].value_counts().reset_index()[\"index\"].tolist()\n",
        "total = sum(df[\"track_length\"].value_counts())\n",
        "plt.pie(df[\"track_length\"].value_counts(), labels=track_len_labels, autopct=lambda p: \"{:.0f}\".format(p * total / 100))\n",
        "centre_circle = plt.Circle((0, 0), 0.70, fc=\"white\")\n",
        "fig = plt.gcf()\n",
        "fig.gca().add_artist(centre_circle)"
      ],
      "metadata": {
        "id": "r1zgVj8R-fpO"
      },
      "execution_count": null,
      "outputs": []
    }
  ]
}