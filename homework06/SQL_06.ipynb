{
  "cells": [
    {
      "cell_type": "markdown",
      "metadata": {
        "id": "view-in-github",
        "colab_type": "text"
      },
      "source": [
        "<a href=\"https://colab.research.google.com/github/ssenichev/cs102new/blob/homework06/homework06/SQL_06.ipynb\" target=\"_parent\"><img src=\"https://colab.research.google.com/assets/colab-badge.svg\" alt=\"Open In Colab\"/></a>"
      ]
    },
    {
      "cell_type": "code",
      "source": [
        "from google.colab import drive\n",
        "drive.mount('/content/gdrive')"
      ],
      "metadata": {
        "colab": {
          "base_uri": "https://localhost:8080/"
        },
        "id": "fmBO4WvsGwyS",
        "outputId": "600e0295-e191-427c-9543-f8dc753f698f"
      },
      "execution_count": 2,
      "outputs": [
        {
          "output_type": "stream",
          "name": "stdout",
          "text": [
            "Mounted at /content/gdrive\n"
          ]
        }
      ]
    },
    {
      "cell_type": "code",
      "execution_count": 3,
      "metadata": {
        "collapsed": true,
        "ExecuteTime": {
          "start_time": "2023-04-20T19:58:46.093860Z",
          "end_time": "2023-04-20T19:58:46.415887Z"
        },
        "colab": {
          "base_uri": "https://localhost:8080/",
          "height": 319
        },
        "id": "Ur-2AZeKGnmz",
        "outputId": "90426b3b-8573-4cdf-a48f-ab045a36b518"
      },
      "outputs": [
        {
          "output_type": "execute_result",
          "data": {
            "text/plain": [
              "   instance_id           artist_name            track_name  popularity  \\\n",
              "0      32894.0              Röyksopp  Röyksopp's Night Out        27.0   \n",
              "1      46652.0  Thievery Corporation      The Shining Path        31.0   \n",
              "2      30097.0        Dillon Francis             Hurricane        28.0   \n",
              "3      62177.0              Dubloadz                 Nitro        34.0   \n",
              "4      24907.0           What So Not      Divide & Conquer        32.0   \n",
              "\n",
              "   acousticness  danceability  duration_ms  energy  instrumentalness key  \\\n",
              "0       0.00468         0.652         -1.0   0.941           0.79200  A#   \n",
              "1       0.01270         0.622     218293.0   0.890           0.95000   D   \n",
              "2       0.00306         0.620     215613.0   0.755           0.01180  G#   \n",
              "3       0.02540         0.774     166875.0   0.700           0.00253  C#   \n",
              "4       0.00465         0.638     222369.0   0.587           0.90900  F#   \n",
              "\n",
              "   liveness  loudness   mode  speechiness               tempo obtained_date  \\\n",
              "0     0.115    -5.201  Minor       0.0748             100.889         4-Apr   \n",
              "1     0.124    -7.043  Minor       0.0300  115.00200000000001         4-Apr   \n",
              "2     0.534    -4.617  Major       0.0345             127.994         4-Apr   \n",
              "3     0.157    -4.498  Major       0.2390             128.014         4-Apr   \n",
              "4     0.157    -6.266  Major       0.0413             145.036         4-Apr   \n",
              "\n",
              "   valence music_genre  \n",
              "0    0.759  Electronic  \n",
              "1    0.531  Electronic  \n",
              "2    0.333  Electronic  \n",
              "3    0.270  Electronic  \n",
              "4    0.323  Electronic  "
            ],
            "text/html": [
              "\n",
              "  <div id=\"df-03b9ab46-9b72-4d15-8929-caac105d2e07\">\n",
              "    <div class=\"colab-df-container\">\n",
              "      <div>\n",
              "<style scoped>\n",
              "    .dataframe tbody tr th:only-of-type {\n",
              "        vertical-align: middle;\n",
              "    }\n",
              "\n",
              "    .dataframe tbody tr th {\n",
              "        vertical-align: top;\n",
              "    }\n",
              "\n",
              "    .dataframe thead th {\n",
              "        text-align: right;\n",
              "    }\n",
              "</style>\n",
              "<table border=\"1\" class=\"dataframe\">\n",
              "  <thead>\n",
              "    <tr style=\"text-align: right;\">\n",
              "      <th></th>\n",
              "      <th>instance_id</th>\n",
              "      <th>artist_name</th>\n",
              "      <th>track_name</th>\n",
              "      <th>popularity</th>\n",
              "      <th>acousticness</th>\n",
              "      <th>danceability</th>\n",
              "      <th>duration_ms</th>\n",
              "      <th>energy</th>\n",
              "      <th>instrumentalness</th>\n",
              "      <th>key</th>\n",
              "      <th>liveness</th>\n",
              "      <th>loudness</th>\n",
              "      <th>mode</th>\n",
              "      <th>speechiness</th>\n",
              "      <th>tempo</th>\n",
              "      <th>obtained_date</th>\n",
              "      <th>valence</th>\n",
              "      <th>music_genre</th>\n",
              "    </tr>\n",
              "  </thead>\n",
              "  <tbody>\n",
              "    <tr>\n",
              "      <th>0</th>\n",
              "      <td>32894.0</td>\n",
              "      <td>Röyksopp</td>\n",
              "      <td>Röyksopp's Night Out</td>\n",
              "      <td>27.0</td>\n",
              "      <td>0.00468</td>\n",
              "      <td>0.652</td>\n",
              "      <td>-1.0</td>\n",
              "      <td>0.941</td>\n",
              "      <td>0.79200</td>\n",
              "      <td>A#</td>\n",
              "      <td>0.115</td>\n",
              "      <td>-5.201</td>\n",
              "      <td>Minor</td>\n",
              "      <td>0.0748</td>\n",
              "      <td>100.889</td>\n",
              "      <td>4-Apr</td>\n",
              "      <td>0.759</td>\n",
              "      <td>Electronic</td>\n",
              "    </tr>\n",
              "    <tr>\n",
              "      <th>1</th>\n",
              "      <td>46652.0</td>\n",
              "      <td>Thievery Corporation</td>\n",
              "      <td>The Shining Path</td>\n",
              "      <td>31.0</td>\n",
              "      <td>0.01270</td>\n",
              "      <td>0.622</td>\n",
              "      <td>218293.0</td>\n",
              "      <td>0.890</td>\n",
              "      <td>0.95000</td>\n",
              "      <td>D</td>\n",
              "      <td>0.124</td>\n",
              "      <td>-7.043</td>\n",
              "      <td>Minor</td>\n",
              "      <td>0.0300</td>\n",
              "      <td>115.00200000000001</td>\n",
              "      <td>4-Apr</td>\n",
              "      <td>0.531</td>\n",
              "      <td>Electronic</td>\n",
              "    </tr>\n",
              "    <tr>\n",
              "      <th>2</th>\n",
              "      <td>30097.0</td>\n",
              "      <td>Dillon Francis</td>\n",
              "      <td>Hurricane</td>\n",
              "      <td>28.0</td>\n",
              "      <td>0.00306</td>\n",
              "      <td>0.620</td>\n",
              "      <td>215613.0</td>\n",
              "      <td>0.755</td>\n",
              "      <td>0.01180</td>\n",
              "      <td>G#</td>\n",
              "      <td>0.534</td>\n",
              "      <td>-4.617</td>\n",
              "      <td>Major</td>\n",
              "      <td>0.0345</td>\n",
              "      <td>127.994</td>\n",
              "      <td>4-Apr</td>\n",
              "      <td>0.333</td>\n",
              "      <td>Electronic</td>\n",
              "    </tr>\n",
              "    <tr>\n",
              "      <th>3</th>\n",
              "      <td>62177.0</td>\n",
              "      <td>Dubloadz</td>\n",
              "      <td>Nitro</td>\n",
              "      <td>34.0</td>\n",
              "      <td>0.02540</td>\n",
              "      <td>0.774</td>\n",
              "      <td>166875.0</td>\n",
              "      <td>0.700</td>\n",
              "      <td>0.00253</td>\n",
              "      <td>C#</td>\n",
              "      <td>0.157</td>\n",
              "      <td>-4.498</td>\n",
              "      <td>Major</td>\n",
              "      <td>0.2390</td>\n",
              "      <td>128.014</td>\n",
              "      <td>4-Apr</td>\n",
              "      <td>0.270</td>\n",
              "      <td>Electronic</td>\n",
              "    </tr>\n",
              "    <tr>\n",
              "      <th>4</th>\n",
              "      <td>24907.0</td>\n",
              "      <td>What So Not</td>\n",
              "      <td>Divide &amp; Conquer</td>\n",
              "      <td>32.0</td>\n",
              "      <td>0.00465</td>\n",
              "      <td>0.638</td>\n",
              "      <td>222369.0</td>\n",
              "      <td>0.587</td>\n",
              "      <td>0.90900</td>\n",
              "      <td>F#</td>\n",
              "      <td>0.157</td>\n",
              "      <td>-6.266</td>\n",
              "      <td>Major</td>\n",
              "      <td>0.0413</td>\n",
              "      <td>145.036</td>\n",
              "      <td>4-Apr</td>\n",
              "      <td>0.323</td>\n",
              "      <td>Electronic</td>\n",
              "    </tr>\n",
              "  </tbody>\n",
              "</table>\n",
              "</div>\n",
              "      <button class=\"colab-df-convert\" onclick=\"convertToInteractive('df-03b9ab46-9b72-4d15-8929-caac105d2e07')\"\n",
              "              title=\"Convert this dataframe to an interactive table.\"\n",
              "              style=\"display:none;\">\n",
              "        \n",
              "  <svg xmlns=\"http://www.w3.org/2000/svg\" height=\"24px\"viewBox=\"0 0 24 24\"\n",
              "       width=\"24px\">\n",
              "    <path d=\"M0 0h24v24H0V0z\" fill=\"none\"/>\n",
              "    <path d=\"M18.56 5.44l.94 2.06.94-2.06 2.06-.94-2.06-.94-.94-2.06-.94 2.06-2.06.94zm-11 1L8.5 8.5l.94-2.06 2.06-.94-2.06-.94L8.5 2.5l-.94 2.06-2.06.94zm10 10l.94 2.06.94-2.06 2.06-.94-2.06-.94-.94-2.06-.94 2.06-2.06.94z\"/><path d=\"M17.41 7.96l-1.37-1.37c-.4-.4-.92-.59-1.43-.59-.52 0-1.04.2-1.43.59L10.3 9.45l-7.72 7.72c-.78.78-.78 2.05 0 2.83L4 21.41c.39.39.9.59 1.41.59.51 0 1.02-.2 1.41-.59l7.78-7.78 2.81-2.81c.8-.78.8-2.07 0-2.86zM5.41 20L4 18.59l7.72-7.72 1.47 1.35L5.41 20z\"/>\n",
              "  </svg>\n",
              "      </button>\n",
              "      \n",
              "  <style>\n",
              "    .colab-df-container {\n",
              "      display:flex;\n",
              "      flex-wrap:wrap;\n",
              "      gap: 12px;\n",
              "    }\n",
              "\n",
              "    .colab-df-convert {\n",
              "      background-color: #E8F0FE;\n",
              "      border: none;\n",
              "      border-radius: 50%;\n",
              "      cursor: pointer;\n",
              "      display: none;\n",
              "      fill: #1967D2;\n",
              "      height: 32px;\n",
              "      padding: 0 0 0 0;\n",
              "      width: 32px;\n",
              "    }\n",
              "\n",
              "    .colab-df-convert:hover {\n",
              "      background-color: #E2EBFA;\n",
              "      box-shadow: 0px 1px 2px rgba(60, 64, 67, 0.3), 0px 1px 3px 1px rgba(60, 64, 67, 0.15);\n",
              "      fill: #174EA6;\n",
              "    }\n",
              "\n",
              "    [theme=dark] .colab-df-convert {\n",
              "      background-color: #3B4455;\n",
              "      fill: #D2E3FC;\n",
              "    }\n",
              "\n",
              "    [theme=dark] .colab-df-convert:hover {\n",
              "      background-color: #434B5C;\n",
              "      box-shadow: 0px 1px 3px 1px rgba(0, 0, 0, 0.15);\n",
              "      filter: drop-shadow(0px 1px 2px rgba(0, 0, 0, 0.3));\n",
              "      fill: #FFFFFF;\n",
              "    }\n",
              "  </style>\n",
              "\n",
              "      <script>\n",
              "        const buttonEl =\n",
              "          document.querySelector('#df-03b9ab46-9b72-4d15-8929-caac105d2e07 button.colab-df-convert');\n",
              "        buttonEl.style.display =\n",
              "          google.colab.kernel.accessAllowed ? 'block' : 'none';\n",
              "\n",
              "        async function convertToInteractive(key) {\n",
              "          const element = document.querySelector('#df-03b9ab46-9b72-4d15-8929-caac105d2e07');\n",
              "          const dataTable =\n",
              "            await google.colab.kernel.invokeFunction('convertToInteractive',\n",
              "                                                     [key], {});\n",
              "          if (!dataTable) return;\n",
              "\n",
              "          const docLinkHtml = 'Like what you see? Visit the ' +\n",
              "            '<a target=\"_blank\" href=https://colab.research.google.com/notebooks/data_table.ipynb>data table notebook</a>'\n",
              "            + ' to learn more about interactive tables.';\n",
              "          element.innerHTML = '';\n",
              "          dataTable['output_type'] = 'display_data';\n",
              "          await google.colab.output.renderOutput(dataTable, element);\n",
              "          const docLink = document.createElement('div');\n",
              "          docLink.innerHTML = docLinkHtml;\n",
              "          element.appendChild(docLink);\n",
              "        }\n",
              "      </script>\n",
              "    </div>\n",
              "  </div>\n",
              "  "
            ]
          },
          "metadata": {},
          "execution_count": 3
        }
      ],
      "source": [
        "import pandas as pd\n",
        "import sqlite3\n",
        "\n",
        "df = pd.read_csv('/content/gdrive/My Drive/Colab Notebooks/music_genre.csv')\n",
        "con = sqlite3.connect(\":memory:\")\n",
        "df.to_sql(\"music_genre\", con=con)\n",
        "cur = con.cursor()\n",
        "df.head()"
      ]
    },
    {
      "cell_type": "markdown",
      "source": [
        "### Задание 1"
      ],
      "metadata": {
        "collapsed": false,
        "id": "Y6SohomGGnm3"
      }
    },
    {
      "cell_type": "code",
      "execution_count": 11,
      "outputs": [
        {
          "output_type": "execute_result",
          "data": {
            "text/plain": [
              "<sqlite3.Cursor at 0x7f5c6ab9bf40>"
            ]
          },
          "metadata": {},
          "execution_count": 11
        }
      ],
      "source": [
        "cur.execute(\"SELECT artist_name FROM music_genre WHERE artist_name = 'empty_field'\")\n",
        "cur.execute(\"DELETE FROM music_genre WHERE artist_name = 'empty_field'\")\n",
        "cur.execute(\n",
        "    \"\"\"DELETE FROM music_genre\n",
        "WHERE artist_name IS NULL;\"\"\"\n",
        ")"
      ],
      "metadata": {
        "ExecuteTime": {
          "start_time": "2023-04-20T19:58:46.417773Z",
          "end_time": "2023-04-20T19:58:46.430815Z"
        },
        "colab": {
          "base_uri": "https://localhost:8080/"
        },
        "id": "GWW74-1FGnm8",
        "outputId": "87d75dd2-bcec-4cb5-d809-cf9a6ec486a4"
      }
    },
    {
      "cell_type": "markdown",
      "source": [
        "### Задание 2"
      ],
      "metadata": {
        "collapsed": false,
        "id": "_RsGFJ62Gnm9"
      }
    },
    {
      "cell_type": "code",
      "execution_count": 12,
      "outputs": [
        {
          "output_type": "execute_result",
          "data": {
            "text/plain": [
              "[('Alternative', 9.951379680495043),\n",
              " ('Anime', 9.951379680495043),\n",
              " ('Blues', 9.987160868009514),\n",
              " ('Classical', 9.964008334911915),\n",
              " ('Country', 10.058723243038454),\n",
              " ('Electronic', 10.054513691566164),\n",
              " ('Hip-Hop', 10.008208625370967),\n",
              " ('Jazz', 10.039780261413146),\n",
              " ('Rap', 9.970322662120351),\n",
              " ('Rock', 10.014522952579403)]"
            ]
          },
          "metadata": {},
          "execution_count": 12
        }
      ],
      "source": [
        "cur.execute(\n",
        "    \"SELECT music_genre, COUNT(*) * 100.0 / SUM(COUNT(*)) OVER () AS genre_percentage FROM music_genre GROUP BY music_genre;\"\n",
        ")\n",
        "cur.fetchall()"
      ],
      "metadata": {
        "ExecuteTime": {
          "start_time": "2023-04-20T19:58:46.432143Z",
          "end_time": "2023-04-20T19:58:46.482505Z"
        },
        "colab": {
          "base_uri": "https://localhost:8080/"
        },
        "id": "f5R8ilANGnm9",
        "outputId": "a771d965-6dcd-4e95-954e-759c98a54467"
      }
    },
    {
      "cell_type": "code",
      "execution_count": 8,
      "outputs": [
        {
          "output_type": "execute_result",
          "data": {
            "text/plain": [
              "[('Hip-Hop', 0.986)]"
            ]
          },
          "metadata": {},
          "execution_count": 8
        }
      ],
      "source": [
        "cur.execute(\n",
        "    \"SELECT music_genre, danceability FROM music_genre WHERE danceability = (SELECT MAX(danceability) FROM music_genre)\"\n",
        ")\n",
        "cur.fetchall()"
      ],
      "metadata": {
        "ExecuteTime": {
          "start_time": "2023-04-20T19:58:46.451202Z",
          "end_time": "2023-04-20T19:58:46.508714Z"
        },
        "colab": {
          "base_uri": "https://localhost:8080/"
        },
        "id": "PLJJ_m86Gnm-",
        "outputId": "3ad27485-c4af-4735-c94b-dc8699455e67"
      }
    },
    {
      "cell_type": "code",
      "execution_count": 9,
      "outputs": [
        {
          "output_type": "execute_result",
          "data": {
            "text/plain": [
              "[('Alternative', 'Major', 3000),\n",
              " ('Alternative', 'Minor', 1728),\n",
              " ('Anime', 'Major', 2915),\n",
              " ('Anime', 'Minor', 1813),\n",
              " ('Blues', 'Major', 3379),\n",
              " ('Blues', 'Minor', 1366),\n",
              " ('Classical', 'Major', 3147),\n",
              " ('Classical', 'Minor', 1587),\n",
              " ('Country', 'Major', 4164),\n",
              " ('Country', 'Minor', 615),\n",
              " ('Electronic', 'Major', 2571),\n",
              " ('Electronic', 'Minor', 2206),\n",
              " ('Hip-Hop', 'Major', 2635),\n",
              " ('Hip-Hop', 'Minor', 2120),\n",
              " ('Jazz', 'Major', 2527),\n",
              " ('Jazz', 'Minor', 2243),\n",
              " ('Rap', 'Major', 2626),\n",
              " ('Rap', 'Minor', 2111),\n",
              " ('Rock', 'Major', 3521),\n",
              " ('Rock', 'Minor', 1237)]"
            ]
          },
          "metadata": {},
          "execution_count": 9
        }
      ],
      "source": [
        "cur.execute(\n",
        "    \"SELECT music_genre, mode, COUNT(*) AS genre_mode \"\n",
        "    \"FROM music_genre \"\n",
        "    \"GROUP BY music_genre, mode \"\n",
        "    \"ORDER BY music_genre, genre_mode DESC;\"\n",
        ")\n",
        "cur.fetchall()"
      ],
      "metadata": {
        "ExecuteTime": {
          "start_time": "2023-04-20T19:58:46.462311Z",
          "end_time": "2023-04-20T19:58:46.508932Z"
        },
        "colab": {
          "base_uri": "https://localhost:8080/"
        },
        "id": "mKASq-elGnm-",
        "outputId": "388992e8-28aa-45c3-aa82-90d8694d7c8d"
      }
    },
    {
      "cell_type": "markdown",
      "source": [
        "### Задание 3"
      ],
      "metadata": {
        "collapsed": false,
        "id": "wgLKJHsWGnm_"
      }
    },
    {
      "cell_type": "code",
      "execution_count": 13,
      "outputs": [
        {
          "output_type": "execute_result",
          "data": {
            "text/plain": [
              "[('\"Weird Al\" Yankovic', 1)]"
            ]
          },
          "metadata": {},
          "execution_count": 13
        }
      ],
      "source": [
        "cur.execute(\"SELECT artist_name, COUNT(*) AS Value FROM music_genre GROUP BY artist_name ORDER BY Value LIMIT 1\")\n",
        "cur.fetchall()"
      ],
      "metadata": {
        "ExecuteTime": {
          "start_time": "2023-04-20T19:58:46.494130Z",
          "end_time": "2023-04-20T19:58:46.561269Z"
        },
        "colab": {
          "base_uri": "https://localhost:8080/"
        },
        "id": "aMDVxTBiGnm_",
        "outputId": "981a0292-3ad6-4d3b-a831-3e0a24d0852b"
      }
    },
    {
      "cell_type": "code",
      "execution_count": 16,
      "outputs": [
        {
          "output_type": "execute_result",
          "data": {
            "text/plain": [
              "[('Nobuo Uematsu', 429)]"
            ]
          },
          "metadata": {},
          "execution_count": 16
        }
      ],
      "source": [
        "cur.execute(\"SELECT artist_name, COUNT(*) AS Value FROM music_genre GROUP BY artist_name ORDER BY Value DESC LIMIT 1\")\n",
        "cur.fetchall()"
      ],
      "metadata": {
        "ExecuteTime": {
          "start_time": "2023-04-20T19:58:46.521997Z",
          "end_time": "2023-04-20T19:58:46.562283Z"
        },
        "colab": {
          "base_uri": "https://localhost:8080/"
        },
        "id": "Ybp6t3WWGnm_",
        "outputId": "96e2dd75-350f-4a9b-ec03-5ff04c2de63e"
      }
    },
    {
      "cell_type": "code",
      "execution_count": 17,
      "outputs": [
        {
          "output_type": "execute_result",
          "data": {
            "text/plain": [
              "[('Nobuo Uematsu', 429),\n",
              " ('Wolfgang Amadeus Mozart', 402),\n",
              " ('Ludwig van Beethoven', 317),\n",
              " ('Johann Sebastian Bach', 314),\n",
              " ('Frédéric Chopin', 241),\n",
              " ('Drake', 172),\n",
              " ('Capcom Sound Team', 169),\n",
              " ('Yuki Hayashi', 167),\n",
              " ('Eminem', 147),\n",
              " ('Future', 124),\n",
              " ('Thievery Corporation', 122),\n",
              " ('The Black Keys', 114),\n",
              " ('Pyotr Ilyich Tchaikovsky', 103),\n",
              " ('Kevin Gates', 102),\n",
              " ('Mac Miller', 97),\n",
              " ('Howard Shore', 93),\n",
              " ('Logic', 92),\n",
              " ('$uicideBoy$', 92),\n",
              " ('Ryuichi Sakamoto', 90),\n",
              " ('ASIAN KUNG-FU GENERATION', 89)]"
            ]
          },
          "metadata": {},
          "execution_count": 17
        }
      ],
      "source": [
        "cur.execute(\"SELECT artist_name, COUNT(*) AS Value FROM music_genre GROUP BY artist_name ORDER BY Value DESC LIMIT 20\")\n",
        "cur.fetchall()"
      ],
      "metadata": {
        "ExecuteTime": {
          "start_time": "2023-04-20T19:58:46.548749Z",
          "end_time": "2023-04-20T19:58:46.611620Z"
        },
        "colab": {
          "base_uri": "https://localhost:8080/"
        },
        "id": "5CRY4ecJGnnA",
        "outputId": "de572a88-d9b0-4a44-951b-cdee3bc891fe"
      }
    },
    {
      "cell_type": "markdown",
      "source": [
        "### Задание 8"
      ],
      "metadata": {
        "collapsed": false,
        "id": "W8q9nRuVGnnA"
      }
    },
    {
      "cell_type": "code",
      "execution_count": null,
      "outputs": [
        {
          "data": {
            "text/plain": "<sqlite3.Cursor at 0x16c5cf040>"
          },
          "execution_count": 60,
          "metadata": {},
          "output_type": "execute_result"
        }
      ],
      "source": [
        "cur.execute(\"ALTER TABLE music_genre ADD COLUMN track_length\")"
      ],
      "metadata": {
        "ExecuteTime": {
          "start_time": "2023-04-20T19:58:46.578747Z",
          "end_time": "2023-04-20T19:58:46.612123Z"
        },
        "id": "4rXhTam6GnnA",
        "outputId": "7dd221f8-b882-4b1c-88cd-5bfdb6d89d5e"
      }
    },
    {
      "cell_type": "code",
      "execution_count": 18,
      "outputs": [
        {
          "output_type": "execute_result",
          "data": {
            "text/plain": [
              "[('средняя', 27009), ('короткая', 12924), ('длинная', 7578)]"
            ]
          },
          "metadata": {},
          "execution_count": 18
        }
      ],
      "source": [
        "cur.execute(\n",
        "    \"\"\"\n",
        "    SELECT track_length, COUNT(*) AS track_count\n",
        "    FROM (\n",
        "        SELECT\n",
        "            CASE\n",
        "                WHEN (duration_ms * 0.001 / 60) <= 3 THEN 'короткая'\n",
        "                WHEN (duration_ms * 0.001 / 60) > 5 THEN 'длинная'\n",
        "                WHEN 3 < (duration_ms * 0.001 / 60) <= 5 THEN 'средняя'\n",
        "            END AS track_length\n",
        "        FROM music_genre\n",
        "    ) t\n",
        "    GROUP BY track_length\n",
        "    ORDER BY track_count DESC;\n",
        "\"\"\"\n",
        ")\n",
        "cur.fetchall()"
      ],
      "metadata": {
        "ExecuteTime": {
          "start_time": "2023-04-20T19:58:46.584903Z",
          "end_time": "2023-04-20T19:58:46.617648Z"
        },
        "colab": {
          "base_uri": "https://localhost:8080/"
        },
        "id": "HjSjIlB4GnnB",
        "outputId": "72aad42f-1c07-4744-ebb1-25e04d55343b"
      }
    }
  ],
  "metadata": {
    "kernelspec": {
      "display_name": "Python 3",
      "language": "python",
      "name": "python3"
    },
    "language_info": {
      "codemirror_mode": {
        "name": "ipython",
        "version": 2
      },
      "file_extension": ".py",
      "mimetype": "text/x-python",
      "name": "python",
      "nbconvert_exporter": "python",
      "pygments_lexer": "ipython2",
      "version": "2.7.6"
    },
    "colab": {
      "provenance": [],
      "include_colab_link": true
    }
  },
  "nbformat": 4,
  "nbformat_minor": 0
}